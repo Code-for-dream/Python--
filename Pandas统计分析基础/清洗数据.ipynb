{
 "cells": [
  {
   "cell_type": "code",
   "execution_count": 54,
   "metadata": {},
   "outputs": [
    {
     "name": "stdout",
     "output_type": "stream",
     "text": [
      "去重之前的所有菜品总数为： 10037\n",
      "去重之后的所有菜品总数为： 145\n"
     ]
    }
   ],
   "source": [
    "import pandas as pd\n",
    "\n",
    "detail = pd.read_csv('data/detail.csv',index_col=0,encoding='gbk')\n",
    "\n",
    "# 定义去重函数\n",
    "def delRep(list1):\n",
    "    list2=[]\n",
    "    for i in list1:\n",
    "        if i not in list2:\n",
    "            list2.append(i)\n",
    "    return list2\n",
    "\n",
    "# 去重\n",
    "# 提取dishes_name所有数据转化为list\n",
    "dishes = list(detail['dishes_name'])\n",
    "print('去重之前的所有菜品总数为：',len(dishes))\n",
    "\n",
    "dish = delRep(dishes)\n",
    "print('去重之后的所有菜品总数为：',len(dish))"
   ]
  },
  {
   "cell_type": "code",
   "execution_count": 4,
   "metadata": {},
   "outputs": [
    {
     "name": "stdout",
     "output_type": "stream",
     "text": [
      "去重之前的所有菜品总数为： 10037\n",
      "去重之后的所有菜品总数为： 145\n"
     ]
    }
   ],
   "source": [
    "# 利用set方法去重\n",
    "print('去重之前的所有菜品总数为：',len(dishes))\n",
    "dish_set = set(dishes)\n",
    "print('去重之后的所有菜品总数为：',len(dish_set))"
   ]
  },
  {
   "cell_type": "code",
   "execution_count": 8,
   "metadata": {},
   "outputs": [
    {
     "name": "stdout",
     "output_type": "stream",
     "text": [
      "去重之后的所有菜品总数为： 145\n"
     ]
    }
   ],
   "source": [
    "# 对dashes_name去重\n",
    "dishes_name = detail['dishes_name'].drop_duplicates()\n",
    "print('去重之后的所有菜品总数为：',len(dishes_name))"
   ]
  },
  {
   "cell_type": "code",
   "execution_count": 7,
   "metadata": {},
   "outputs": [
    {
     "name": "stdout",
     "output_type": "stream",
     "text": [
      "去重之前订单详情表的形状为： (10037, 18)\n",
      "去重之后订单详情表的形状为： (942, 18)\n"
     ]
    }
   ],
   "source": [
    "#多列去重\n",
    "print('去重之前订单详情表的形状为：',detail.shape)\n",
    "shapeDet = detail.drop_duplicates(subset=['order_id','emp_id'])\n",
    "print('去重之后订单详情表的形状为：',shapeDet.shape)\n",
    "shapeDet.to_csv('data/shapeDet.csv',sep=',',index=True)"
   ]
  },
  {
   "cell_type": "code",
   "execution_count": null,
   "metadata": {},
   "outputs": [],
   "source": []
  },
  {
   "cell_type": "code",
   "execution_count": 4,
   "metadata": {},
   "outputs": [
    {
     "name": "stdout",
     "output_type": "stream",
     "text": [
      "销量和售价的Kendall法相似度矩阵为：\n",
      "            counts   amounts\n",
      "counts   1.000000 -0.229968\n",
      "amounts -0.229968  1.000000\n"
     ]
    }
   ],
   "source": [
    "# 求取销售量和销售价的相似度\n",
    "corrDet = detail[['counts','amounts']].corr(method='kendall')\n",
    "print('销量和售价的Kendall法相似度矩阵为：\\n',corrDet)"
   ]
  },
  {
   "cell_type": "code",
   "execution_count": 7,
   "metadata": {},
   "outputs": [
    {
     "name": "stdout",
     "output_type": "stream",
     "text": [
      "销量和售价的Kendall法相似度矩阵为：\n",
      "            counts   amounts\n",
      "counts   1.000000 -0.279105\n",
      "amounts -0.279105  1.000000\n"
     ]
    }
   ],
   "source": [
    "corrDet1 = detail[['counts','amounts','dishes_name']].corr(method='kendall')\n",
    "print('销量和售价的Kendall法相似度矩阵为：\\n',corrDet1)"
   ]
  },
  {
   "cell_type": "code",
   "execution_count": 8,
   "metadata": {},
   "outputs": [
    {
     "name": "stdout",
     "output_type": "stream",
     "text": [
      "销量和售价的Kendall法相似度矩阵为：\n",
      "            counts   amounts\n",
      "counts   1.000000 -0.279105\n",
      "amounts -0.279105  1.000000\n"
     ]
    }
   ],
   "source": [
    "corrDet2 = detail[['counts','amounts']].corr(method='spearman')\n",
    "print('销量和售价的Kendall法相似度矩阵为：\\n',corrDet2)"
   ]
  },
  {
   "cell_type": "code",
   "execution_count": 55,
   "metadata": {},
   "outputs": [
    {
     "name": "stdout",
     "output_type": "stream",
     "text": [
      "detail特征相等矩阵的前5行5列为：\n",
      "                    order_id  dishes_id  logicprn_name  parent_class_name  \\\n",
      "order_id               True      False          False              False   \n",
      "dishes_id             False       True          False              False   \n",
      "logicprn_name         False      False           True               True   \n",
      "parent_class_name     False      False           True               True   \n",
      "dishes_name           False      False          False              False   \n",
      "\n",
      "                   dishes_name  \n",
      "order_id                 False  \n",
      "dishes_id                False  \n",
      "logicprn_name            False  \n",
      "parent_class_name        False  \n",
      "dishes_name               True  \n"
     ]
    }
   ],
   "source": [
    "# 定义求取特征是否完全相同的矩阵的函数\n",
    "def featureequals(df):\n",
    "    dfequals = pd.DataFrame([],columns=df.columns,index=df.columns)\n",
    "    for i in df.columns:\n",
    "        for j in df.columns:\n",
    "            dfequals.loc[i,j] = df.loc[:,i].equals(df.loc[:,j])\n",
    "    return dfequals\n",
    "\n",
    "detequals = featureequals(detail)\n",
    "print('detail特征相等矩阵的前5行5列为：\\n',detequals.iloc[:5,:5])\n",
    "#detequals.to_csv('data/detequals.csv',sep=',',index=True)"
   ]
  },
  {
   "cell_type": "code",
   "execution_count": null,
   "metadata": {},
   "outputs": [],
   "source": []
  },
  {
   "cell_type": "code",
   "execution_count": 56,
   "metadata": {},
   "outputs": [
    {
     "name": "stdout",
     "output_type": "stream",
     "text": [
      "需要删除的列为： ['parent_class_name', 'cost', 'discount_amt', 'discount_reason', 'kick_back', 'add_info', 'bar_code', 'add_inprice']\n",
      "删除多余列后detail的特征数目为： 10\n"
     ]
    }
   ],
   "source": [
    "# 遍历所有数据\n",
    "lendet = detequals.shape[0]\n",
    "dupcol = []\n",
    "\n",
    "for k in range(lendet):\n",
    "    for l in range(k+1,lendet):\n",
    "        if detequals.iloc[k,l] & (detequals.columns[l] not in dupcol):\n",
    "            dupcol.append(detequals.columns[l])\n",
    "            \n",
    "# 进行去重操作\n",
    "print('需要删除的列为：',dupcol)\n",
    "detail.drop(dupcol,axis=1,inplace=True)\n",
    "print('删除多余列后detail的特征数目为：',detail.shape[1])\n",
    "#detail.to_csv('data/detail_drop.csv',sep=',',index=True)"
   ]
  },
  {
   "cell_type": "code",
   "execution_count": 58,
   "metadata": {},
   "outputs": [
    {
     "name": "stdout",
     "output_type": "stream",
     "text": [
      "detail_drop的索引为：\n",
      " Int64Index([2956, 2958, 2961, 2966, 2968, 1899, 1902, 1906, 1907, 1908,\n",
      "            ...\n",
      "            5682, 5377, 5680, 5378, 5685, 5683, 5686, 5379, 5380, 5688],\n",
      "           dtype='int64', name='detail_id', length=10037)\n"
     ]
    }
   ],
   "source": [
    "print('detail_drop的索引为：\\n',detail.index)"
   ]
  },
  {
   "cell_type": "code",
   "execution_count": 40,
   "metadata": {},
   "outputs": [
    {
     "name": "stdout",
     "output_type": "stream",
     "text": [
      "18\n"
     ]
    }
   ],
   "source": [
    "lendet = detequals.shape[0]\n",
    "print(lendet)"
   ]
  },
  {
   "cell_type": "code",
   "execution_count": 45,
   "metadata": {},
   "outputs": [
    {
     "name": "stdout",
     "output_type": "stream",
     "text": [
      "k: 0\n",
      "**************************************************\n",
      "range(k+1,lendet): range(1, 18)\n",
      "l: 1\n",
      "range(k+1,lendet): range(1, 18)\n",
      "l: 2\n",
      "range(k+1,lendet): range(1, 18)\n",
      "l: 3\n",
      "range(k+1,lendet): range(1, 18)\n",
      "l: 4\n",
      "range(k+1,lendet): range(1, 18)\n",
      "l: 5\n",
      "range(k+1,lendet): range(1, 18)\n",
      "l: 6\n",
      "range(k+1,lendet): range(1, 18)\n",
      "l: 7\n",
      "range(k+1,lendet): range(1, 18)\n",
      "l: 8\n",
      "range(k+1,lendet): range(1, 18)\n",
      "l: 9\n",
      "range(k+1,lendet): range(1, 18)\n",
      "l: 10\n",
      "range(k+1,lendet): range(1, 18)\n",
      "l: 11\n",
      "range(k+1,lendet): range(1, 18)\n",
      "l: 12\n",
      "range(k+1,lendet): range(1, 18)\n",
      "l: 13\n",
      "range(k+1,lendet): range(1, 18)\n",
      "l: 14\n",
      "range(k+1,lendet): range(1, 18)\n",
      "l: 15\n",
      "range(k+1,lendet): range(1, 18)\n",
      "l: 16\n",
      "range(k+1,lendet): range(1, 18)\n",
      "l: 17\n",
      "k: 1\n",
      "**************************************************\n",
      "range(k+1,lendet): range(2, 18)\n",
      "l: 2\n",
      "range(k+1,lendet): range(2, 18)\n",
      "l: 3\n",
      "range(k+1,lendet): range(2, 18)\n",
      "l: 4\n",
      "range(k+1,lendet): range(2, 18)\n",
      "l: 5\n",
      "range(k+1,lendet): range(2, 18)\n",
      "l: 6\n",
      "range(k+1,lendet): range(2, 18)\n",
      "l: 7\n",
      "range(k+1,lendet): range(2, 18)\n",
      "l: 8\n",
      "range(k+1,lendet): range(2, 18)\n",
      "l: 9\n",
      "range(k+1,lendet): range(2, 18)\n",
      "l: 10\n",
      "range(k+1,lendet): range(2, 18)\n",
      "l: 11\n",
      "range(k+1,lendet): range(2, 18)\n",
      "l: 12\n",
      "range(k+1,lendet): range(2, 18)\n",
      "l: 13\n",
      "range(k+1,lendet): range(2, 18)\n",
      "l: 14\n",
      "range(k+1,lendet): range(2, 18)\n",
      "l: 15\n",
      "range(k+1,lendet): range(2, 18)\n",
      "l: 16\n",
      "range(k+1,lendet): range(2, 18)\n",
      "l: 17\n",
      "k: 2\n",
      "**************************************************\n",
      "range(k+1,lendet): range(3, 18)\n",
      "l: 3\n",
      "['parent_class_name']\n",
      "range(k+1,lendet): range(3, 18)\n",
      "l: 4\n",
      "range(k+1,lendet): range(3, 18)\n",
      "l: 5\n",
      "range(k+1,lendet): range(3, 18)\n",
      "l: 6\n",
      "range(k+1,lendet): range(3, 18)\n",
      "l: 7\n",
      "range(k+1,lendet): range(3, 18)\n",
      "l: 8\n",
      "['parent_class_name', 'cost']\n",
      "range(k+1,lendet): range(3, 18)\n",
      "l: 9\n",
      "range(k+1,lendet): range(3, 18)\n",
      "l: 10\n",
      "['parent_class_name', 'cost', 'discount_amt']\n",
      "range(k+1,lendet): range(3, 18)\n",
      "l: 11\n",
      "['parent_class_name', 'cost', 'discount_amt', 'discount_reason']\n",
      "range(k+1,lendet): range(3, 18)\n",
      "l: 12\n",
      "['parent_class_name', 'cost', 'discount_amt', 'discount_reason', 'kick_back']\n",
      "range(k+1,lendet): range(3, 18)\n",
      "l: 13\n",
      "range(k+1,lendet): range(3, 18)\n",
      "l: 14\n",
      "['parent_class_name', 'cost', 'discount_amt', 'discount_reason', 'kick_back', 'add_info']\n",
      "range(k+1,lendet): range(3, 18)\n",
      "l: 15\n",
      "['parent_class_name', 'cost', 'discount_amt', 'discount_reason', 'kick_back', 'add_info', 'bar_code']\n",
      "range(k+1,lendet): range(3, 18)\n",
      "l: 16\n",
      "range(k+1,lendet): range(3, 18)\n",
      "l: 17\n",
      "k: 3\n",
      "**************************************************\n",
      "range(k+1,lendet): range(4, 18)\n",
      "l: 4\n",
      "range(k+1,lendet): range(4, 18)\n",
      "l: 5\n",
      "range(k+1,lendet): range(4, 18)\n",
      "l: 6\n",
      "range(k+1,lendet): range(4, 18)\n",
      "l: 7\n",
      "range(k+1,lendet): range(4, 18)\n",
      "l: 8\n",
      "range(k+1,lendet): range(4, 18)\n",
      "l: 9\n",
      "range(k+1,lendet): range(4, 18)\n",
      "l: 10\n",
      "range(k+1,lendet): range(4, 18)\n",
      "l: 11\n",
      "range(k+1,lendet): range(4, 18)\n",
      "l: 12\n",
      "range(k+1,lendet): range(4, 18)\n",
      "l: 13\n",
      "range(k+1,lendet): range(4, 18)\n",
      "l: 14\n",
      "range(k+1,lendet): range(4, 18)\n",
      "l: 15\n",
      "range(k+1,lendet): range(4, 18)\n",
      "l: 16\n",
      "range(k+1,lendet): range(4, 18)\n",
      "l: 17\n",
      "k: 4\n",
      "**************************************************\n",
      "range(k+1,lendet): range(5, 18)\n",
      "l: 5\n",
      "range(k+1,lendet): range(5, 18)\n",
      "l: 6\n",
      "range(k+1,lendet): range(5, 18)\n",
      "l: 7\n",
      "range(k+1,lendet): range(5, 18)\n",
      "l: 8\n",
      "range(k+1,lendet): range(5, 18)\n",
      "l: 9\n",
      "range(k+1,lendet): range(5, 18)\n",
      "l: 10\n",
      "range(k+1,lendet): range(5, 18)\n",
      "l: 11\n",
      "range(k+1,lendet): range(5, 18)\n",
      "l: 12\n",
      "range(k+1,lendet): range(5, 18)\n",
      "l: 13\n",
      "range(k+1,lendet): range(5, 18)\n",
      "l: 14\n",
      "range(k+1,lendet): range(5, 18)\n",
      "l: 15\n",
      "range(k+1,lendet): range(5, 18)\n",
      "l: 16\n",
      "range(k+1,lendet): range(5, 18)\n",
      "l: 17\n",
      "k: 5\n",
      "**************************************************\n",
      "range(k+1,lendet): range(6, 18)\n",
      "l: 6\n",
      "range(k+1,lendet): range(6, 18)\n",
      "l: 7\n",
      "range(k+1,lendet): range(6, 18)\n",
      "l: 8\n",
      "range(k+1,lendet): range(6, 18)\n",
      "l: 9\n",
      "range(k+1,lendet): range(6, 18)\n",
      "l: 10\n",
      "range(k+1,lendet): range(6, 18)\n",
      "l: 11\n",
      "range(k+1,lendet): range(6, 18)\n",
      "l: 12\n",
      "range(k+1,lendet): range(6, 18)\n",
      "l: 13\n",
      "['parent_class_name', 'cost', 'discount_amt', 'discount_reason', 'kick_back', 'add_info', 'bar_code', 'add_inprice']\n",
      "range(k+1,lendet): range(6, 18)\n",
      "l: 14\n",
      "range(k+1,lendet): range(6, 18)\n",
      "l: 15\n",
      "range(k+1,lendet): range(6, 18)\n",
      "l: 16\n",
      "range(k+1,lendet): range(6, 18)\n",
      "l: 17\n",
      "k: 6\n",
      "**************************************************\n",
      "range(k+1,lendet): range(7, 18)\n",
      "l: 7\n",
      "range(k+1,lendet): range(7, 18)\n",
      "l: 8\n",
      "range(k+1,lendet): range(7, 18)\n",
      "l: 9\n",
      "range(k+1,lendet): range(7, 18)\n",
      "l: 10\n",
      "range(k+1,lendet): range(7, 18)\n",
      "l: 11\n",
      "range(k+1,lendet): range(7, 18)\n",
      "l: 12\n",
      "range(k+1,lendet): range(7, 18)\n",
      "l: 13\n",
      "range(k+1,lendet): range(7, 18)\n",
      "l: 14\n",
      "range(k+1,lendet): range(7, 18)\n",
      "l: 15\n",
      "range(k+1,lendet): range(7, 18)\n",
      "l: 16\n",
      "range(k+1,lendet): range(7, 18)\n",
      "l: 17\n",
      "k: 7\n",
      "**************************************************\n",
      "range(k+1,lendet): range(8, 18)\n",
      "l: 8\n",
      "range(k+1,lendet): range(8, 18)\n",
      "l: 9\n",
      "range(k+1,lendet): range(8, 18)\n",
      "l: 10\n",
      "range(k+1,lendet): range(8, 18)\n",
      "l: 11\n",
      "range(k+1,lendet): range(8, 18)\n",
      "l: 12\n",
      "range(k+1,lendet): range(8, 18)\n",
      "l: 13\n",
      "range(k+1,lendet): range(8, 18)\n",
      "l: 14\n",
      "range(k+1,lendet): range(8, 18)\n",
      "l: 15\n",
      "range(k+1,lendet): range(8, 18)\n",
      "l: 16\n",
      "range(k+1,lendet): range(8, 18)\n",
      "l: 17\n",
      "k: 8\n",
      "**************************************************\n",
      "range(k+1,lendet): range(9, 18)\n",
      "l: 9\n",
      "range(k+1,lendet): range(9, 18)\n",
      "l: 10\n",
      "range(k+1,lendet): range(9, 18)\n",
      "l: 11\n",
      "range(k+1,lendet): range(9, 18)\n",
      "l: 12\n",
      "range(k+1,lendet): range(9, 18)\n",
      "l: 13\n",
      "range(k+1,lendet): range(9, 18)\n",
      "l: 14\n",
      "range(k+1,lendet): range(9, 18)\n",
      "l: 15\n",
      "range(k+1,lendet): range(9, 18)\n",
      "l: 16\n",
      "range(k+1,lendet): range(9, 18)\n",
      "l: 17\n",
      "k: 9\n",
      "**************************************************\n",
      "range(k+1,lendet): range(10, 18)\n",
      "l: 10\n",
      "range(k+1,lendet): range(10, 18)\n",
      "l: 11\n",
      "range(k+1,lendet): range(10, 18)\n",
      "l: 12\n",
      "range(k+1,lendet): range(10, 18)\n",
      "l: 13\n",
      "range(k+1,lendet): range(10, 18)\n",
      "l: 14\n",
      "range(k+1,lendet): range(10, 18)\n",
      "l: 15\n",
      "range(k+1,lendet): range(10, 18)\n",
      "l: 16\n",
      "range(k+1,lendet): range(10, 18)\n",
      "l: 17\n",
      "k: 10\n",
      "**************************************************\n",
      "range(k+1,lendet): range(11, 18)\n",
      "l: 11\n",
      "range(k+1,lendet): range(11, 18)\n",
      "l: 12\n",
      "range(k+1,lendet): range(11, 18)\n",
      "l: 13\n",
      "range(k+1,lendet): range(11, 18)\n",
      "l: 14\n",
      "range(k+1,lendet): range(11, 18)\n",
      "l: 15\n",
      "range(k+1,lendet): range(11, 18)\n",
      "l: 16\n",
      "range(k+1,lendet): range(11, 18)\n",
      "l: 17\n",
      "k: 11\n",
      "**************************************************\n",
      "range(k+1,lendet): range(12, 18)\n",
      "l: 12\n",
      "range(k+1,lendet): range(12, 18)\n",
      "l: 13\n",
      "range(k+1,lendet): range(12, 18)\n",
      "l: 14\n",
      "range(k+1,lendet): range(12, 18)\n",
      "l: 15\n",
      "range(k+1,lendet): range(12, 18)\n",
      "l: 16\n",
      "range(k+1,lendet): range(12, 18)\n",
      "l: 17\n",
      "k: 12\n",
      "**************************************************\n",
      "range(k+1,lendet): range(13, 18)\n",
      "l: 13\n",
      "range(k+1,lendet): range(13, 18)\n",
      "l: 14\n",
      "range(k+1,lendet): range(13, 18)\n",
      "l: 15\n",
      "range(k+1,lendet): range(13, 18)\n",
      "l: 16\n",
      "range(k+1,lendet): range(13, 18)\n",
      "l: 17\n",
      "k: 13\n",
      "**************************************************\n",
      "range(k+1,lendet): range(14, 18)\n",
      "l: 14\n",
      "range(k+1,lendet): range(14, 18)\n",
      "l: 15\n",
      "range(k+1,lendet): range(14, 18)\n",
      "l: 16\n",
      "range(k+1,lendet): range(14, 18)\n",
      "l: 17\n",
      "k: 14\n",
      "**************************************************\n",
      "range(k+1,lendet): range(15, 18)\n",
      "l: 15\n",
      "range(k+1,lendet): range(15, 18)\n",
      "l: 16\n",
      "range(k+1,lendet): range(15, 18)\n",
      "l: 17\n",
      "k: 15\n",
      "**************************************************\n",
      "range(k+1,lendet): range(16, 18)\n",
      "l: 16\n",
      "range(k+1,lendet): range(16, 18)\n",
      "l: 17\n",
      "k: 16\n",
      "**************************************************\n",
      "range(k+1,lendet): range(17, 18)\n",
      "l: 17\n",
      "k: 17\n",
      "**************************************************\n"
     ]
    }
   ],
   "source": [
    "# 遍历所有数据\n",
    "lendet = detequals.shape[0]\n",
    "dupcol = []\n",
    "\n",
    "for k in range(lendet):\n",
    "    print('k:',k)\n",
    "    print('*'*50)\n",
    "    for l in range(k+1,lendet):\n",
    "        print('range(k+1,lendet):',range(k+1,lendet))\n",
    "        print('l:',l)\n",
    "        if detequals.iloc[k,l] & (detequals.columns[l] not in dupcol):\n",
    "            dupcol.append(detequals.columns[l])\n",
    "            print(dupcol)"
   ]
  },
  {
   "cell_type": "code",
   "execution_count": null,
   "metadata": {},
   "outputs": [],
   "source": []
  },
  {
   "cell_type": "code",
   "execution_count": 59,
   "metadata": {},
   "outputs": [
    {
     "name": "stdout",
     "output_type": "stream",
     "text": [
      "detail每个特征缺失的数目为：\n",
      " order_id                0\n",
      "dishes_id               0\n",
      "logicprn_name       10037\n",
      "dishes_name             0\n",
      "itemis_add              0\n",
      "counts                  0\n",
      "amounts                 0\n",
      "place_order_time        0\n",
      "picture_file            0\n",
      "emp_id                  0\n",
      "dtype: int64\n",
      "detail每个特征非缺失的数目为：\n",
      " order_id            10037\n",
      "dishes_id           10037\n",
      "logicprn_name           0\n",
      "dishes_name         10037\n",
      "itemis_add          10037\n",
      "counts              10037\n",
      "amounts             10037\n",
      "place_order_time    10037\n",
      "picture_file        10037\n",
      "emp_id              10037\n",
      "dtype: int64\n"
     ]
    }
   ],
   "source": [
    "print('detail每个特征缺失的数目为：\\n',detail.isnull().sum())\n",
    "print('detail每个特征非缺失的数目为：\\n',detail.notnull().sum())"
   ]
  },
  {
   "cell_type": "code",
   "execution_count": 61,
   "metadata": {},
   "outputs": [
    {
     "name": "stdout",
     "output_type": "stream",
     "text": [
      "去除缺失列前detail的形状为： (10037, 10)\n",
      "去除缺失列后detail的形状为： (10037, 9)\n"
     ]
    }
   ],
   "source": [
    "print('去除缺失列前detail的形状为：',detail.shape)\n",
    "print('去除缺失列后detail的形状为：',detail.dropna(axis=1,how='any').shape)"
   ]
  },
  {
   "cell_type": "code",
   "execution_count": 65,
   "metadata": {},
   "outputs": [
    {
     "name": "stdout",
     "output_type": "stream",
     "text": [
      "detail中每个特征缺失的数目为： order_id            0\n",
      "dishes_id           0\n",
      "logicprn_name       0\n",
      "dishes_name         0\n",
      "itemis_add          0\n",
      "counts              0\n",
      "amounts             0\n",
      "place_order_time    0\n",
      "picture_file        0\n",
      "emp_id              0\n",
      "dtype: int64\n"
     ]
    }
   ],
   "source": [
    "detail_fillna=detail.fillna(-99)\n",
    "print('detail中每个特征缺失的数目为：',detail.isnull().sum())\n",
    "detail_fillna.to_csv('data/detail_fillna.csv',sep=',',index=True)"
   ]
  },
  {
   "cell_type": "code",
   "execution_count": 66,
   "metadata": {},
   "outputs": [
    {
     "name": "stdout",
     "output_type": "stream",
     "text": [
      "当x为6、7时，使用线性插值y1为： [ 76. 102.]\n",
      "当x为6、7时，使用线性插值y2为： [13. 15.]\n"
     ]
    }
   ],
   "source": [
    "## 线性插值\n",
    "import numpy as np\n",
    "from scipy.interpolate import interp1d\n",
    "x=np.array([1,2,3,4,5,8,9,10]) ##创建自变量x\n",
    "y1=np.array([2,8,18,32,50,128,162,200]) ##创建因变量y1\n",
    "y2=np.array([3,5,7,9,11,17,19,21]) ##创建因变量y2\n",
    "LinearInsValue1 = interp1d(x,y1,kind='linear') ##线性插值拟合x,y1\n",
    "LinearInsValue2 = interp1d(x,y2,kind='linear') ##线性插值拟合x,y2\n",
    "print('当x为6、7时，使用线性插值y1为：',LinearInsValue1([6,7]))\n",
    "print('当x为6、7时，使用线性插值y2为：',LinearInsValue2([6,7]))"
   ]
  },
  {
   "cell_type": "code",
   "execution_count": null,
   "metadata": {},
   "outputs": [],
   "source": []
  },
  {
   "cell_type": "code",
   "execution_count": 67,
   "metadata": {},
   "outputs": [
    {
     "name": "stdout",
     "output_type": "stream",
     "text": [
      "当x为6,7时，使用拉格朗日插值y1为： [72. 98.]\n",
      "当x为6,7时，使用拉格朗日插值y2为： [13. 15.]\n"
     ]
    }
   ],
   "source": [
    "## 拉格朗日插值\n",
    "from scipy.interpolate import lagrange\n",
    "LargeInsValue1 = lagrange(x,y1) ##拉格朗日插值拟合x,y1\n",
    "LargeInsValue2 = lagrange(x,y2) ##拉格朗日插值拟合x,y2\n",
    "print('当x为6,7时，使用拉格朗日插值y1为：',LargeInsValue1([6,7]))\n",
    "print('当x为6,7时，使用拉格朗日插值y2为：',LargeInsValue2([6,7]))"
   ]
  },
  {
   "cell_type": "code",
   "execution_count": null,
   "metadata": {},
   "outputs": [],
   "source": []
  },
  {
   "cell_type": "code",
   "execution_count": 72,
   "metadata": {},
   "outputs": [
    {
     "ename": "ImportError",
     "evalue": "cannot import name 'spline' from 'scipy.interpolate' (E:\\Anaconda\\anaconda\\lib\\site-packages\\scipy\\interpolate\\__init__.py)",
     "output_type": "error",
     "traceback": [
      "\u001b[1;31m---------------------------------------------------------------------------\u001b[0m",
      "\u001b[1;31mImportError\u001b[0m                               Traceback (most recent call last)",
      "\u001b[1;32m<ipython-input-72-ba1e2f17ccfa>\u001b[0m in \u001b[0;36m<module>\u001b[1;34m\u001b[0m\n\u001b[0;32m      1\u001b[0m \u001b[1;31m##样条插值\u001b[0m\u001b[1;33m\u001b[0m\u001b[1;33m\u001b[0m\u001b[1;33m\u001b[0m\u001b[0m\n\u001b[1;32m----> 2\u001b[1;33m \u001b[1;32mfrom\u001b[0m \u001b[0mscipy\u001b[0m\u001b[1;33m.\u001b[0m\u001b[0minterpolate\u001b[0m \u001b[1;32mimport\u001b[0m \u001b[0mspline\u001b[0m\u001b[1;33m\u001b[0m\u001b[1;33m\u001b[0m\u001b[0m\n\u001b[0m\u001b[0;32m      3\u001b[0m \u001b[1;33m\u001b[0m\u001b[0m\n\u001b[0;32m      4\u001b[0m \u001b[1;31m##样条插值拟合x,y1\u001b[0m\u001b[1;33m\u001b[0m\u001b[1;33m\u001b[0m\u001b[1;33m\u001b[0m\u001b[0m\n\u001b[0;32m      5\u001b[0m \u001b[0mSplineInsValue1\u001b[0m \u001b[1;33m=\u001b[0m \u001b[0mspline\u001b[0m\u001b[1;33m(\u001b[0m\u001b[0mx\u001b[0m\u001b[1;33m,\u001b[0m\u001b[0my1\u001b[0m\u001b[1;33m,\u001b[0m\u001b[0mxnew\u001b[0m\u001b[1;33m=\u001b[0m\u001b[0mnp\u001b[0m\u001b[1;33m.\u001b[0m\u001b[0marray\u001b[0m\u001b[1;33m(\u001b[0m\u001b[1;33m[\u001b[0m\u001b[1;36m6\u001b[0m\u001b[1;33m,\u001b[0m\u001b[1;36m7\u001b[0m\u001b[1;33m]\u001b[0m\u001b[1;33m)\u001b[0m\u001b[1;33m)\u001b[0m\u001b[1;33m\u001b[0m\u001b[1;33m\u001b[0m\u001b[0m\n",
      "\u001b[1;31mImportError\u001b[0m: cannot import name 'spline' from 'scipy.interpolate' (E:\\Anaconda\\anaconda\\lib\\site-packages\\scipy\\interpolate\\__init__.py)"
     ]
    }
   ],
   "source": [
    "##样条插值\n",
    "from scipy.interpolate import spline\n",
    "\n",
    "##样条插值拟合x,y1\n",
    "SplineInsValue1 = spline(x,y1,xnew=np.array([6,7]))\n",
    "##样条插值拟合x,y2\n",
    "SplineInsValue2 = spline(x,y2,xnew=np.array([6,7]))\n",
    "print('当x为6,7时，使用样条插值y1为：',SplineInsValue1)\n",
    "print('当x为6,7时，使用样条插值y2为：',SplineInsValue2)"
   ]
  },
  {
   "cell_type": "code",
   "execution_count": 75,
   "metadata": {},
   "outputs": [
    {
     "name": "stdout",
     "output_type": "stream",
     "text": [
      "detail_id\n",
      "2956    False\n",
      "2958    False\n",
      "2961    False\n",
      "2966    False\n",
      "2968    False\n",
      "        ...  \n",
      "5683    False\n",
      "5686    False\n",
      "5379    False\n",
      "5380    False\n",
      "5688    False\n",
      "Name: counts, Length: 10037, dtype: bool\n",
      "[  94  176  238  270  346  374  390  392  395  405  473  497  523  622\n",
      "  644  645  646  682  700  769  781  803  804  956 1046 1051 1084 1225\n",
      " 1243 1251 1276 1290 1299 1317 1351 1388 1477 1482 1526 1534 1553 1554\n",
      " 1563 1754 1775 1783 1792 1857 1863 2090 2108 2145 2203 2227 2264 2366\n",
      " 2367 2370 2458 2459 2461 2501 2861 2890 2949 3026 3049 3124 3130 3141\n",
      " 3374 3472 3497 3503 3518 3523 3585 3603 3698 3720 3794 3855 3975 4026\n",
      " 4096 4104 4152 4157 4182 4285 4327 4357 4379 4557 4561 4562 4602 4726\n",
      " 4824 4878 4958 4964 4974 5074 5076 5158 5213 5256 5261 5272 5285 5287\n",
      " 5306 5526 5565 5723 5753 5876 5877 5879 5896 5978 5981 5987 5989 5992\n",
      " 6040 6042 6099 6129 6173 6174 6177 6280 6296 6324 6345 6352 6434 6502\n",
      " 6570 6657 6735 6738 6823 6906 6944 6951 6954 7010 7118 7179 7272 7309\n",
      " 7405 7411 7422 7435 7564 7703 7710 7715 7746 7881 7882 7884 8005 8082\n",
      " 8099 8163 8270 8276 8365 8409 8414 8446 8510 8573 8594 8619 8621 8626\n",
      " 8666 8695 8755 8758 8794 8798 8963 8976 9017 9093 9094 9160 9207 9232\n",
      " 9409 9411 9492 9505 9542 9564 9574 9577 9597 9739 9748 9950 9953]\n",
      "detail_id\n",
      "4513    5\n",
      "4447    3\n",
      "1650    4\n",
      "908     4\n",
      "5819    4\n",
      "       ..\n",
      "2082    4\n",
      "2587    6\n",
      "916     4\n",
      "4350    4\n",
      "4358    5\n",
      "Name: counts, Length: 209, dtype: int64\n",
      "使用3∂原则判定异常值的个数为： 209\n",
      "异常值的最大值为： 10\n",
      "异常值的最小值为： 3\n"
     ]
    }
   ],
   "source": [
    "# 定义3∂原则来识别异常数值的函数\n",
    "def outrange(ser1):\n",
    "    boolind = (ser1.mean()-3*ser1.std()>ser1)|(ser1.mean()+3*ser1.var()<ser1)\n",
    "    print(boolind)\n",
    "    index = np.arange(ser1.shape[0])[boolind]\n",
    "    print(index)\n",
    "    outrange = ser1.iloc[index]\n",
    "    print(outrange)\n",
    "    return outrange\n",
    "outlier = outrange(detail['counts'])\n",
    "print('使用3∂原则判定异常值的个数为：',outlier.shape[0])\n",
    "print('异常值的最大值为：',outlier.max())\n",
    "print('异常值的最小值为：',outlier.min())"
   ]
  },
  {
   "cell_type": "code",
   "execution_count": 76,
   "metadata": {},
   "outputs": [
    {
     "data": {
      "image/png": "[encoded data removed]",
      "text/plain": [
       "<Figure size 720x576 with 1 Axes>"
      ]
     },
     "metadata": {
      "needs_background": "light"
     },
     "output_type": "display_data"
    },
    {
     "name": "stdout",
     "output_type": "stream",
     "text": [
      "销售量异常值个数为： 516\n",
      "销售量数据异常值的最大值为： 10\n",
      "销售量数据异常值的最小值为： 2\n"
     ]
    }
   ],
   "source": [
    "import matplotlib.pyplot as plt\n",
    "\n",
    "# 设置画布\n",
    "plt.figure(figsize=(10,8))\n",
    "\n",
    "# 绘制箱线图\n",
    "p = plt.boxplot(detail['counts'].values,notch=True)\n",
    "outlier1 = p['fliers'][0].get_ydata() #fliers为异常值的标签\n",
    "plt.savefig('tmp/菜品异常数据识别.png')\n",
    "plt.show()\n",
    "print('销售量异常值个数为：',len(outlier1))\n",
    "print('销售量数据异常值的最大值为：',outlier1.max())\n",
    "print('销售量数据异常值的最小值为：',outlier1.min())"
   ]
  },
  {
   "cell_type": "code",
   "execution_count": 77,
   "metadata": {},
   "outputs": [
    {
     "name": "stdout",
     "output_type": "stream",
     "text": [
      "[ 2  2  2  2  5  2  2  2  2  2  3  2  2  2  2  4  2  4  4  4  2  4 10  4\n",
      "  6  2  6  6  8  2  2  2  6  6  4  3  4  6  2  6  6  2  8  3  2  2  2  4\n",
      "  2  2  2  2  3  6  8  2  2  2  2  5  2  2  5  3  4  2  3  2  2  4  8  2\n",
      "  2  3  3  2  2  2  4  4  2  2  2  4  6  2  3  3  3  2  2  2  2  2  2  3\n",
      "  2  3  3  2  3  2  4  6  2  2  2  2  2  2  2  2  2  2  4  7  2  2  4  8\n",
      "  8  4  3  3  3  2  2  2  2  2  2  3  4  6  7  2  2  2  2  2  2  2  4  2\n",
      "  2  4  2  2  2  4  2  2  6  6  2  4  4  2  3  2  2  2  2  2  5  2  3  2\n",
      "  3  3  2  4  3  2  8  6  2  2  2  2  6  2  4  2  2  2  2  2  2  3  8  2\n",
      "  2  2  3  4  2  2  3  2  3  2  6  6  6  2  2  2  4  2  2  8  6  3  2  2\n",
      "  2  2  2  2  2  2  2  2  2  2 10  4  4  2  2  2  2  6  2  2  2  2  6  2\n",
      "  6  2  2  7  2  2  2  2  2  4  3  2  8  2  2  2  3  3  2  2  2  7  2  2\n",
      "  5  2  2  2  2  2  3  3  2  2  2  4  2  5  5  6  2  2  2  2  2  2  2  6\n",
      "  6  2  2  2  3  2  2  2  3  2  2  4  4  6  3  2  2  2  2  2  2  3  4  7\n",
      "  4  6  2  2  4  4  2  4  3  2  3  6  3  2  6  5  2  3  2  8  8  2  2  4\n",
      "  3  2  2  2  4  2  2  2  2  4  2  2  4  3  2  2  2  2  3  2  2  5  2  2\n",
      "  2  7  3  4  2  2  4  2  2  6  2  2  8  2  2  2  6  5  2  2  2  2  4  5\n",
      "  2  4  6  2  2  2  4  2  2  2  2  2  2  3  2  4  6  2  3  2  2  2  2  3\n",
      "  3  2  4  2  2  2  2 10  2  2  4  2  4  4  2  2  4  3  2  2  2  4  2  2\n",
      "  5  5  5  2  2  8  2  2  2 10  2 10  2  8  4  3  2  2  2  8  2  8  2  2\n",
      "  2  2  2  2  4  3  4  4  2  2  2  2  2  4  2  2  3  2  6  2  2  2  2  3\n",
      "  3  2  6  8  2  2  2  5  2  2  2  2  2  4  3  4  6  4  4  4  4  4  2  2\n",
      "  2  6  2  4  2  2  2  2  2  4  5  2]\n"
     ]
    }
   ],
   "source": [
    "outlier1 = p['fliers'][0].get_ydata() #fliers为异常值的标签\n",
    "print(outlier1)"
   ]
  },
  {
   "cell_type": "code",
   "execution_count": null,
   "metadata": {},
   "outputs": [],
   "source": []
  },
  {
   "cell_type": "code",
   "execution_count": null,
   "metadata": {},
   "outputs": [],
   "source": []
  },
  {
   "cell_type": "code",
   "execution_count": null,
   "metadata": {},
   "outputs": [],
   "source": []
  },
  {
   "cell_type": "code",
   "execution_count": null,
   "metadata": {},
   "outputs": [],
   "source": []
  },
  {
   "cell_type": "code",
   "execution_count": null,
   "metadata": {},
   "outputs": [],
   "source": []
  },
  {
   "cell_type": "code",
   "execution_count": null,
   "metadata": {},
   "outputs": [],
   "source": []
  },
  {
   "cell_type": "code",
   "execution_count": null,
   "metadata": {},
   "outputs": [],
   "source": []
  },
  {
   "cell_type": "code",
   "execution_count": null,
   "metadata": {},
   "outputs": [],
   "source": []
  },
  {
   "cell_type": "code",
   "execution_count": null,
   "metadata": {},
   "outputs": [],
   "source": []
  },
  {
   "cell_type": "code",
   "execution_count": null,
   "metadata": {},
   "outputs": [],
   "source": []
  },
  {
   "cell_type": "code",
   "execution_count": null,
   "metadata": {},
   "outputs": [],
   "source": []
  },
  {
   "cell_type": "code",
   "execution_count": null,
   "metadata": {},
   "outputs": [],
   "source": []
  },
  {
   "cell_type": "code",
   "execution_count": null,
   "metadata": {},
   "outputs": [],
   "source": []
  },
  {
   "cell_type": "code",
   "execution_count": null,
   "metadata": {},
   "outputs": [],
   "source": []
  },
  {
   "cell_type": "code",
   "execution_count": null,
   "metadata": {},
   "outputs": [],
   "source": []
  },
  {
   "cell_type": "code",
   "execution_count": null,
   "metadata": {},
   "outputs": [],
   "source": []
  },
  {
   "cell_type": "code",
   "execution_count": null,
   "metadata": {},
   "outputs": [],
   "source": []
  },
  {
   "cell_type": "code",
   "execution_count": null,
   "metadata": {},
   "outputs": [],
   "source": []
  },
  {
   "cell_type": "code",
   "execution_count": null,
   "metadata": {},
   "outputs": [],
   "source": []
  },
  {
   "cell_type": "code",
   "execution_count": null,
   "metadata": {},
   "outputs": [],
   "source": []
  },
  {
   "cell_type": "code",
   "execution_count": null,
   "metadata": {},
   "outputs": [],
   "source": []
  },
  {
   "cell_type": "code",
   "execution_count": null,
   "metadata": {},
   "outputs": [],
   "source": []
  },
  {
   "cell_type": "code",
   "execution_count": null,
   "metadata": {},
   "outputs": [],
   "source": []
  },
  {
   "cell_type": "code",
   "execution_count": null,
   "metadata": {},
   "outputs": [],
   "source": []
  },
  {
   "cell_type": "code",
   "execution_count": null,
   "metadata": {},
   "outputs": [],
   "source": []
  },
  {
   "cell_type": "code",
   "execution_count": null,
   "metadata": {},
   "outputs": [],
   "source": []
  },
  {
   "cell_type": "code",
   "execution_count": null,
   "metadata": {},
   "outputs": [],
   "source": []
  },
  {
   "cell_type": "code",
   "execution_count": null,
   "metadata": {},
   "outputs": [],
   "source": []
  },
  {
   "cell_type": "code",
   "execution_count": null,
   "metadata": {},
   "outputs": [],
   "source": []
  },
  {
   "cell_type": "code",
   "execution_count": null,
   "metadata": {},
   "outputs": [],
   "source": []
  },
  {
   "cell_type": "code",
   "execution_count": null,
   "metadata": {},
   "outputs": [],
   "source": []
  },
  {
   "cell_type": "code",
   "execution_count": null,
   "metadata": {},
   "outputs": [],
   "source": []
  },
  {
   "cell_type": "code",
   "execution_count": null,
   "metadata": {},
   "outputs": [],
   "source": []
  },
  {
   "cell_type": "code",
   "execution_count": null,
   "metadata": {},
   "outputs": [],
   "source": []
  },
  {
   "cell_type": "code",
   "execution_count": null,
   "metadata": {},
   "outputs": [],
   "source": []
  },
  {
   "cell_type": "code",
   "execution_count": null,
   "metadata": {},
   "outputs": [],
   "source": []
  },
  {
   "cell_type": "code",
   "execution_count": null,
   "metadata": {},
   "outputs": [],
   "source": []
  },
  {
   "cell_type": "code",
   "execution_count": null,
   "metadata": {},
   "outputs": [],
   "source": []
  }
 ],
 "metadata": {
  "kernelspec": {
   "display_name": "Python 3",
   "language": "python",
   "name": "python3"
  },
  "language_info": {
   "codemirror_mode": {
    "name": "ipython",
    "version": 3
   },
   "file_extension": ".py",
   "mimetype": "text/x-python",
   "name": "python",
   "nbconvert_exporter": "python",
   "pygments_lexer": "ipython3",
   "version": "3.7.6"
  }
 },
 "nbformat": 4,
 "nbformat_minor": 4
}
