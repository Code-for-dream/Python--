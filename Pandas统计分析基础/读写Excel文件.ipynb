{
 "cells": [
  {
   "cell_type": "code",
   "execution_count": 1,
   "metadata": {},
   "outputs": [
    {
     "name": "stdout",
     "output_type": "stream",
     "text": [
      "客户信息表写入excel文件前目录内文件列表为：\n",
      " ['orderInfo.csv']\n",
      "客户信息表写入excel文件后目录内文件列表为：\n",
      " ['orderInfo.csv', 'userInfo.xlsx']\n"
     ]
    }
   ],
   "source": [
    "import os\n",
    "import pandas as pd\n",
    "\n",
    "user = pd.read_excel('data/users.xlsx')## 读取user.xlsx文件\n",
    "\n",
    "print('客户信息表写入excel文件前目录内文件列表为：\\n',os.listdir('tmp'))\n",
    "user.to_excel('tmp/userInfo.xlsx')\n",
    "\n",
    "print('客户信息表写入excel文件后目录内文件列表为：\\n',os.listdir('tmp'))"
   ]
  },
  {
   "cell_type": "code",
   "execution_count": 2,
   "metadata": {},
   "outputs": [
    {
     "name": "stdout",
     "output_type": "stream",
     "text": [
      "客户信息表长度为： 734\n"
     ]
    }
   ],
   "source": [
    "import pandas as pd\n",
    "\n",
    "user = pd.read_excel('data/users.xlsx')## 读取user.xlsx文件\n",
    "print('客户信息表长度为：',len(user))"
   ]
  },
  {
   "cell_type": "code",
   "execution_count": null,
   "metadata": {},
   "outputs": [],
   "source": []
  }
 ],
 "metadata": {
  "kernelspec": {
   "display_name": "Python 3",
   "language": "python",
   "name": "python3"
  },
  "language_info": {
   "codemirror_mode": {
    "name": "ipython",
    "version": 3
   },
   "file_extension": ".py",
   "mimetype": "text/x-python",
   "name": "python",
   "nbconvert_exporter": "python",
   "pygments_lexer": "ipython3",
   "version": "3.7.6"
  }
 },
 "nbformat": 4,
 "nbformat_minor": 4
}
