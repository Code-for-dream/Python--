{
 "cells": [
  {
   "cell_type": "code",
   "execution_count": 6,
   "metadata": {},
   "outputs": [
    {
     "name": "stdout",
     "output_type": "stream",
     "text": [
      "转换前信息表中的lock_time的类型为： object\n",
      "转换后信息表中的lock_time的类型为： datetime64[ns]\n"
     ]
    }
   ],
   "source": [
    "import pandas as pd \n",
    "order = pd.read_table('data/meal_order_info.csv',sep=',',encoding='gbk')\n",
    "print('转换前信息表中的lock_time的类型为：',order['lock_time'].dtype)\n",
    "order['lock_time'] = pd.to_datetime(order['lock_time'])\n",
    "print('转换后信息表中的lock_time的类型为：',order['lock_time'].dtype)"
   ]
  },
  {
   "cell_type": "code",
   "execution_count": 2,
   "metadata": {},
   "outputs": [
    {
     "name": "stdout",
     "output_type": "stream",
     "text": [
      "最小时间： 1677-09-21 00:12:43.145225\n",
      "最大时间： 2262-04-11 23:47:16.854775807\n"
     ]
    }
   ],
   "source": [
    "print('最小时间：',pd.Timestamp.min)\n",
    "print('最大时间：',pd.Timestamp.max)"
   ]
  },
  {
   "cell_type": "code",
   "execution_count": 7,
   "metadata": {},
   "outputs": [
    {
     "name": "stdout",
     "output_type": "stream",
     "text": [
      "转化后的数据类型为： <class 'pandas.core.indexes.datetimes.DatetimeIndex'>\n"
     ]
    }
   ],
   "source": [
    "dateIndex = pd.DatetimeIndex(order['lock_time'])\n",
    "print('转化后的数据类型为：',type(dateIndex))"
   ]
  },
  {
   "cell_type": "code",
   "execution_count": 10,
   "metadata": {},
   "outputs": [
    {
     "name": "stdout",
     "output_type": "stream",
     "text": [
      "转化后的数据类型为： <class 'pandas.core.indexes.period.PeriodIndex'>\n"
     ]
    }
   ],
   "source": [
    "periodIndex = pd.PeriodIndex(order['lock_time'],freq='S')\n",
    "print('转化后的数据类型为：',type(periodIndex))"
   ]
  },
  {
   "cell_type": "code",
   "execution_count": 8,
   "metadata": {
    "scrolled": true
   },
   "outputs": [
    {
     "name": "stdout",
     "output_type": "stream",
     "text": [
      "lock_time中的年份数据前5个是： [2016, 2016, 2016, 2016, 2016]\n",
      "lock_time中的月份数据前5个是： [8, 8, 8, 8, 8]\n",
      "lock_time中的日期数据前5个是： [1, 1, 1, 1, 1]\n",
      "lock_time中的星期名数据前5个是： ['Monday', 'Monday', 'Monday', 'Monday', 'Monday']\n"
     ]
    },
    {
     "name": "stderr",
     "output_type": "stream",
     "text": [
      "E:\\Anaconda\\anaconda\\lib\\site-packages\\ipykernel_launcher.py:7: FutureWarning: `weekday_name` is deprecated and will be removed in a future version. Use `day_name` instead\n",
      "  import sys\n"
     ]
    }
   ],
   "source": [
    "year1 = [i.year for i in order['lock_time']]\n",
    "print('lock_time中的年份数据前5个是：',year1[:5])\n",
    "month1 = [i.month for i in order['lock_time']]\n",
    "print('lock_time中的月份数据前5个是：',month1[:5])\n",
    "day1 = [i.day for i in order['lock_time']]\n",
    "print('lock_time中的日期数据前5个是：',day1[:5])\n",
    "weekname1 = [i.weekday_name for i in  order['lock_time']]\n",
    "print('lock_time中的星期名数据前5个是：',weekname1[:5])"
   ]
  },
  {
   "cell_type": "code",
   "execution_count": 11,
   "metadata": {},
   "outputs": [
    {
     "name": "stdout",
     "output_type": "stream",
     "text": [
      "dateIndex中星期名称的前5个为：\n",
      " Index(['Monday', 'Monday', 'Monday', 'Monday', 'Monday'], dtype='object', name='lock_time')\n",
      "periodIndex中的星期名称的前5个为：\n",
      " Int64Index([0, 0, 0, 0, 0], dtype='int64', name='lock_time')\n"
     ]
    }
   ],
   "source": [
    "#在DatetimeIndex和PeriodIndex中提取信息\n",
    "print('dateIndex中星期名称的前5个为：\\n',dateIndex.weekday_name[:5])\n",
    "print('periodIndex中的星期名称的前5个为：\\n',periodIndex.weekday[:5])"
   ]
  },
  {
   "cell_type": "code",
   "execution_count": 13,
   "metadata": {},
   "outputs": [
    {
     "name": "stdout",
     "output_type": "stream",
     "text": [
      "加上一天时间之前的数据：\n",
      " 0   2016-08-01 11:11:46\n",
      "1   2016-08-01 11:31:55\n",
      "2   2016-08-01 12:54:37\n",
      "3   2016-08-01 13:08:20\n",
      "4   2016-08-01 13:07:16\n",
      "Name: lock_time, dtype: datetime64[ns]\n",
      "加上一天时间之后的数据：\n",
      " 0   2016-08-02 11:11:46\n",
      "1   2016-08-02 11:31:55\n",
      "2   2016-08-02 12:54:37\n",
      "3   2016-08-02 13:08:20\n",
      "4   2016-08-02 13:07:16\n",
      "Name: lock_time, dtype: datetime64[ns]\n"
     ]
    }
   ],
   "source": [
    "# 将lock_time的时间加上一天\n",
    "time1 = order['lock_time']+pd.Timedelta(days=1)\n",
    "print('加上一天时间之前的数据：\\n',order['lock_time'][:5])\n",
    "print('加上一天时间之后的数据：\\n',time1[:5])"
   ]
  },
  {
   "cell_type": "code",
   "execution_count": 14,
   "metadata": {},
   "outputs": [
    {
     "name": "stdout",
     "output_type": "stream",
     "text": [
      "lock_time减去2017年1月1日0点0时0分后的数据为：\n",
      " 0   -153 days +11:11:46\n",
      "1   -153 days +11:31:55\n",
      "2   -153 days +12:54:37\n",
      "3   -153 days +13:08:20\n",
      "4   -153 days +13:07:16\n",
      "Name: lock_time, dtype: timedelta64[ns]\n",
      "数据类型为： timedelta64[ns]\n"
     ]
    }
   ],
   "source": [
    "timeDelta = order['lock_time']-pd.to_datetime('2017-1-1')\n",
    "print('lock_time减去2017年1月1日0点0时0分后的数据为：\\n',timeDelta[:5])\n",
    "print('数据类型为：',timeDelta.dtypes)"
   ]
  },
  {
   "cell_type": "code",
   "execution_count": 16,
   "metadata": {},
   "outputs": [
    {
     "name": "stdout",
     "output_type": "stream",
     "text": [
      "年份信息：\n",
      " [2016, 2016, 2016, 2016, 2016]\n",
      "月份信息：\n",
      " [8, 8, 8, 8, 8]\n",
      "日期信息：\n",
      " [1, 1, 1, 1, 1]\n",
      "周信息：\n",
      " [31, 31, 31, 31, 31]\n",
      "星期信息：\n",
      " [0, 0, 0, 0, 0]\n",
      "星期名称信息：\n",
      " ['Monday', 'Monday', 'Monday', 'Monday', 'Monday']\n"
     ]
    },
    {
     "name": "stderr",
     "output_type": "stream",
     "text": [
      "E:\\Anaconda\\anaconda\\lib\\site-packages\\ipykernel_launcher.py:16: FutureWarning: `weekday_name` is deprecated and will be removed in a future version. Use `day_name` instead\n",
      "  app.launch_new_instance()\n"
     ]
    }
   ],
   "source": [
    "import pandas as pd \n",
    "\n",
    "# 读取数据表\n",
    "order = pd.read_table('data/meal_order_info.csv',sep=',',encoding='gbk')\n",
    "\n",
    "# 转换数据类型\n",
    "order['use_start_time'] = pd.to_datetime(order['use_start_time'])\n",
    "order['lock_time'] = pd.to_datetime(order['lock_time'])\n",
    "\n",
    "# 提取相关的时间信息\n",
    "year = [i.year for i in order['lock_time']]\n",
    "month = [i.month for i in order['lock_time']]\n",
    "day = [i.day for i in order['lock_time']]    \n",
    "week = [i.week for i in order['lock_time']]\n",
    "weekday = [i.weekday() for i in order['lock_time']]\n",
    "weekday_name = [i.weekday_name for i in order['lock_time']]\n",
    "\n",
    "print('年份信息：\\n',year[:5])\n",
    "print('月份信息：\\n',month[:5])\n",
    "print('日期信息：\\n',day[:5])\n",
    "print('周信息：\\n',week[:5])\n",
    "print('星期信息：\\n',weekday[:5])\n",
    "print('星期名称信息：\\n',weekday_name[:5])"
   ]
  },
  {
   "cell_type": "code",
   "execution_count": null,
   "metadata": {},
   "outputs": [],
   "source": []
  },
  {
   "cell_type": "code",
   "execution_count": null,
   "metadata": {},
   "outputs": [],
   "source": []
  },
  {
   "cell_type": "code",
   "execution_count": null,
   "metadata": {},
   "outputs": [],
   "source": []
  },
  {
   "cell_type": "code",
   "execution_count": null,
   "metadata": {},
   "outputs": [],
   "source": []
  },
  {
   "cell_type": "code",
   "execution_count": null,
   "metadata": {},
   "outputs": [],
   "source": []
  },
  {
   "cell_type": "code",
   "execution_count": null,
   "metadata": {},
   "outputs": [],
   "source": []
  },
  {
   "cell_type": "code",
   "execution_count": null,
   "metadata": {},
   "outputs": [],
   "source": []
  },
  {
   "cell_type": "code",
   "execution_count": null,
   "metadata": {},
   "outputs": [],
   "source": []
  },
  {
   "cell_type": "code",
   "execution_count": null,
   "metadata": {},
   "outputs": [],
   "source": []
  },
  {
   "cell_type": "code",
   "execution_count": null,
   "metadata": {},
   "outputs": [],
   "source": []
  },
  {
   "cell_type": "code",
   "execution_count": null,
   "metadata": {},
   "outputs": [],
   "source": []
  },
  {
   "cell_type": "code",
   "execution_count": null,
   "metadata": {},
   "outputs": [],
   "source": []
  }
 ],
 "metadata": {
  "kernelspec": {
   "display_name": "Python 3",
   "language": "python",
   "name": "python3"
  },
  "language_info": {
   "codemirror_mode": {
    "name": "ipython",
    "version": 3
   },
   "file_extension": ".py",
   "mimetype": "text/x-python",
   "name": "python",
   "nbconvert_exporter": "python",
   "pygments_lexer": "ipython3",
   "version": "3.7.6"
  }
 },
 "nbformat": 4,
 "nbformat_minor": 4
}
