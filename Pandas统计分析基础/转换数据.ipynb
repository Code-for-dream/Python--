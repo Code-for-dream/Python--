{
 "cells": [
  {
   "cell_type": "code",
   "execution_count": 18,
   "metadata": {},
   "outputs": [
    {
     "name": "stdout",
     "output_type": "stream",
     "text": [
      "进行哑变量处理前的数据样式：\n",
      " 0     蒜蓉生蚝\n",
      "1    蒙古烤羊腿\n",
      "2     大蒜苋菜\n",
      "3    芝麻烤紫菜\n",
      "4      蒜香包\n",
      "Name: dishes_name, dtype: object\n",
      "进行哑变量处理后的数据样式：\n",
      "    38度剑南春  42度海之蓝  50度古井贡酒  52度泸州老窖\n",
      "0       0       0        0        0\n",
      "1       0       0        0        0\n",
      "2       0       0        0        0\n",
      "3       0       0        0        0\n",
      "4       0       0        0        0\n"
     ]
    }
   ],
   "source": [
    "import pandas as pd\n",
    "import numpy as np\n",
    "\n",
    "# 读取数据\n",
    "detail = pd.read_csv('data/detail.csv',encoding='gbk')\n",
    "\n",
    "# 哑变量处理\n",
    "data = pd.get_dummies(detail['dishes_name'])\n",
    "data.to_csv('data/dishes_name_getdummies.csv',sep=',',index=True)\n",
    "\n",
    "print('进行哑变量处理前的数据样式：\\n',detail['dishes_name'][0:5])\n",
    "print('进行哑变量处理后的数据样式：\\n',data.iloc[:5,:4])"
   ]
  },
  {
   "cell_type": "code",
   "execution_count": 3,
   "metadata": {},
   "outputs": [
    {
     "name": "stdout",
     "output_type": "stream",
     "text": [
      "离散化后5条记录售价分布为：\n",
      " (0.823, 36.4]     5461\n",
      "(36.4, 71.8]      3157\n",
      "(71.8, 107.2]      839\n",
      "(142.6, 178.0]     426\n",
      "(107.2, 142.6]     154\n",
      "Name: amounts, dtype: int64\n"
     ]
    }
   ],
   "source": [
    "price = pd.cut(detail['amounts'],5)\n",
    "print('离散化后5条记录售价分布为：\\n',price.value_counts())"
   ]
  },
  {
   "cell_type": "code",
   "execution_count": 3,
   "metadata": {},
   "outputs": [
    {
     "name": "stdout",
     "output_type": "stream",
     "text": [
      "菜品数据等频法离散化数据后各个类别数目分布情况：\n",
      " (18.0, 32.0]     2107\n",
      "(39.0, 58.0]     2080\n",
      "(32.0, 39.0]     1910\n",
      "(1.0, 18.0]      1891\n",
      "(58.0, 178.0]    1863\n",
      "Name: amounts, dtype: int64\n"
     ]
    }
   ],
   "source": [
    "# 自定义等频法离散化数据\n",
    "def sameratecut(data,k):\n",
    "    w = data.quantile(np.arange(0,1+1.0/k,1.0/k))\n",
    "    data = pd.cut(data,w)\n",
    "    return data\n",
    "# 对菜品售价进行等频法离散化数据\n",
    "result = sameratecut(detail['amounts'],5).value_counts()\n",
    "print('菜品数据等频法离散化数据后各个类别数目分布情况：\\n',result)    "
   ]
  },
  {
   "cell_type": "code",
   "execution_count": 11,
   "metadata": {},
   "outputs": [
    {
     "name": "stdout",
     "output_type": "stream",
     "text": [
      "[0.  0.2 0.4 0.6 0.8 1. ]\n"
     ]
    }
   ],
   "source": [
    "m = np.arange(0,1+1.0/5,1.0/5)\n",
    "print(m)"
   ]
  },
  {
   "cell_type": "code",
   "execution_count": 12,
   "metadata": {},
   "outputs": [
    {
     "name": "stdout",
     "output_type": "stream",
     "text": [
      "178\n",
      "1\n"
     ]
    }
   ],
   "source": [
    "print(detail['amounts'].max())\n",
    "print(detail['amounts'].min())"
   ]
  },
  {
   "cell_type": "code",
   "execution_count": 6,
   "metadata": {},
   "outputs": [
    {
     "name": "stdout",
     "output_type": "stream",
     "text": [
      "0.0      1.0\n",
      "0.2     18.0\n",
      "0.4     32.0\n",
      "0.6     39.0\n",
      "0.8     58.0\n",
      "1.0    178.0\n",
      "Name: amounts, dtype: float64\n"
     ]
    }
   ],
   "source": [
    "w = detail['amounts'].quantile(np.arange(0,1+1.0/5,1.0/5))\n",
    "print(w)"
   ]
  },
  {
   "cell_type": "code",
   "execution_count": 10,
   "metadata": {},
   "outputs": [
    {
     "name": "stdout",
     "output_type": "stream",
     "text": [
      "        A                   B               C\n",
      "0.25  1.5 2010-07-02 12:00:00 1 days 12:00:00\n",
      "0.75  2.5 2011-07-02 12:00:00 2 days 12:00:00\n"
     ]
    }
   ],
   "source": [
    "df = pd.DataFrame({'A': [1, 2, 3],\n",
    "                   'B': [pd.Timestamp('2010'),\n",
    "                         pd.Timestamp('2011'),\n",
    "                         pd.Timestamp('2012')],\n",
    "                   'C': [pd.Timedelta('1 days'),\n",
    "                         pd.Timedelta('2 days'),\n",
    "                         pd.Timedelta('3 days')]})\n",
    "m = df.quantile((0.25,0.75), numeric_only=False)\n",
    "print(m)"
   ]
  },
  {
   "cell_type": "code",
   "execution_count": 72,
   "metadata": {},
   "outputs": [
    {
     "name": "stdout",
     "output_type": "stream",
     "text": [
      "菜品售价聚类离散化后各个类别数目分布状况为：\n",
      " (22.31, 43.51]       3690\n",
      "(43.51, 73.945]      2474\n",
      "(0.0, 22.31]         2454\n",
      "(73.945, 131.858]     993\n",
      "(131.858, 178.0]      426\n",
      "Name: amounts, dtype: int64\n"
     ]
    }
   ],
   "source": [
    "# 自定义数据K-Means聚类离散化函数\n",
    "def kmeancut(data,k):\n",
    "    from sklearn.cluster import KMeans\n",
    "    # 建立模型\n",
    "    kmodel = KMeans(n_clusters=k)\n",
    "    # 训练模型\n",
    "    kmodel.fit(data.values.reshape((len(data),1)))\n",
    "    # 输出聚类中心并排序\n",
    "    c = pd.DataFrame(kmodel.cluster_centers_).sort_values(0)\n",
    "    w = c.rolling(2).mean().iloc[1:]\n",
    "    w = [0]+list(w[0])+[data.max()]\n",
    "    data = pd.cut(data,w)\n",
    "    return data\n",
    "\n",
    "# 菜品售价等频法离散化\n",
    "result=kmeancut(detail['amounts'],5).value_counts()\n",
    "print('菜品售价聚类离散化后各个类别数目分布状况为：\\n',result)"
   ]
  },
  {
   "cell_type": "code",
   "execution_count": 43,
   "metadata": {},
   "outputs": [
    {
     "name": "stdout",
     "output_type": "stream",
     "text": [
      "KMeans(algorithm='auto', copy_x=True, init='k-means++', max_iter=300,\n",
      "       n_clusters=5, n_init=10, n_jobs=None, precompute_distances='auto',\n",
      "       random_state=None, tol=0.0001, verbose=0)\n"
     ]
    }
   ],
   "source": [
    "from sklearn.cluster import KMeans\n",
    "    \n",
    "kmodel = KMeans(n_clusters=5)  # 设置要形成的团簇数目以及要生成的质心数。\n",
    "print(kmodel)"
   ]
  },
  {
   "cell_type": "code",
   "execution_count": 48,
   "metadata": {},
   "outputs": [
    {
     "name": "stdout",
     "output_type": "stream",
     "text": [
      "KMeans(algorithm='auto', copy_x=True, init='k-means++', max_iter=300,\n",
      "       n_clusters=5, n_init=10, n_jobs=None, precompute_distances='auto',\n",
      "       random_state=None, tol=0.0001, verbose=0)\n"
     ]
    }
   ],
   "source": [
    "kmodel1= kmodel.fit(detail['amounts'].values.reshape((len(detail['amounts']),1)))\n",
    "print(kmodel1)"
   ]
  },
  {
   "cell_type": "code",
   "execution_count": 50,
   "metadata": {},
   "outputs": [
    {
     "name": "stdout",
     "output_type": "stream",
     "text": [
      "            0\n",
      "4   12.179707\n",
      "1   32.439295\n",
      "3   54.580437\n",
      "0   93.310171\n",
      "2  170.406103\n"
     ]
    }
   ],
   "source": [
    "# 输出聚类中心并排序\n",
    "c = pd.DataFrame(kmodel.cluster_centers_).sort_values(0)\n",
    "print(c)"
   ]
  },
  {
   "cell_type": "code",
   "execution_count": 70,
   "metadata": {},
   "outputs": [
    {
     "name": "stdout",
     "output_type": "stream",
     "text": [
      "            0\n",
      "1   22.309501\n",
      "3   43.509866\n",
      "0   73.945304\n",
      "2  131.858137\n",
      "[0, 22.30950099721165, 43.50986596648579, 73.9453038692032, 131.85813724238798, 178]\n"
     ]
    }
   ],
   "source": [
    "# 相邻两项求中点，作为边界点\n",
    "w = c.rolling(2).mean().iloc[1:]\n",
    "print(w)\n",
    "# 把末边界点加上\n",
    "w = [0]+list(w[0])+[m]\n",
    "print(w)"
   ]
  },
  {
   "cell_type": "code",
   "execution_count": 71,
   "metadata": {},
   "outputs": [
    {
     "name": "stdout",
     "output_type": "stream",
     "text": [
      "0        (43.51, 73.945]\n",
      "1        (43.51, 73.945]\n",
      "2         (22.31, 43.51]\n",
      "3         (22.31, 43.51]\n",
      "4           (0.0, 22.31]\n",
      "              ...       \n",
      "10032     (22.31, 43.51]\n",
      "10033     (22.31, 43.51]\n",
      "10034     (22.31, 43.51]\n",
      "10035       (0.0, 22.31]\n",
      "10036     (22.31, 43.51]\n",
      "Name: amounts, Length: 10037, dtype: category\n",
      "Categories (5, interval[float64]): [(0.0, 22.31] < (22.31, 43.51] < (43.51, 73.945] < (73.945, 131.858] < (131.858, 178.0]]\n"
     ]
    }
   ],
   "source": [
    "data = pd.cut(detail['amounts'],w)\n",
    "print(data)"
   ]
  },
  {
   "cell_type": "code",
   "execution_count": null,
   "metadata": {},
   "outputs": [],
   "source": []
  },
  {
   "cell_type": "code",
   "execution_count": null,
   "metadata": {},
   "outputs": [],
   "source": []
  },
  {
   "cell_type": "code",
   "execution_count": null,
   "metadata": {},
   "outputs": [],
   "source": []
  },
  {
   "cell_type": "code",
   "execution_count": null,
   "metadata": {},
   "outputs": [],
   "source": []
  },
  {
   "cell_type": "code",
   "execution_count": null,
   "metadata": {},
   "outputs": [],
   "source": []
  },
  {
   "cell_type": "code",
   "execution_count": null,
   "metadata": {},
   "outputs": [],
   "source": []
  },
  {
   "cell_type": "code",
   "execution_count": null,
   "metadata": {},
   "outputs": [],
   "source": []
  },
  {
   "cell_type": "code",
   "execution_count": null,
   "metadata": {},
   "outputs": [],
   "source": []
  },
  {
   "cell_type": "code",
   "execution_count": null,
   "metadata": {},
   "outputs": [],
   "source": []
  },
  {
   "cell_type": "code",
   "execution_count": null,
   "metadata": {},
   "outputs": [],
   "source": []
  },
  {
   "cell_type": "code",
   "execution_count": null,
   "metadata": {},
   "outputs": [],
   "source": []
  },
  {
   "cell_type": "code",
   "execution_count": null,
   "metadata": {},
   "outputs": [],
   "source": []
  },
  {
   "cell_type": "code",
   "execution_count": null,
   "metadata": {},
   "outputs": [],
   "source": []
  },
  {
   "cell_type": "code",
   "execution_count": null,
   "metadata": {},
   "outputs": [],
   "source": []
  },
  {
   "cell_type": "code",
   "execution_count": null,
   "metadata": {},
   "outputs": [],
   "source": []
  },
  {
   "cell_type": "code",
   "execution_count": null,
   "metadata": {},
   "outputs": [],
   "source": []
  },
  {
   "cell_type": "code",
   "execution_count": null,
   "metadata": {},
   "outputs": [],
   "source": []
  },
  {
   "cell_type": "code",
   "execution_count": null,
   "metadata": {},
   "outputs": [],
   "source": []
  },
  {
   "cell_type": "code",
   "execution_count": null,
   "metadata": {},
   "outputs": [],
   "source": []
  },
  {
   "cell_type": "code",
   "execution_count": null,
   "metadata": {},
   "outputs": [],
   "source": []
  },
  {
   "cell_type": "code",
   "execution_count": null,
   "metadata": {},
   "outputs": [],
   "source": []
  },
  {
   "cell_type": "code",
   "execution_count": null,
   "metadata": {},
   "outputs": [],
   "source": []
  },
  {
   "cell_type": "code",
   "execution_count": null,
   "metadata": {},
   "outputs": [],
   "source": []
  },
  {
   "cell_type": "code",
   "execution_count": null,
   "metadata": {},
   "outputs": [],
   "source": []
  },
  {
   "cell_type": "code",
   "execution_count": null,
   "metadata": {},
   "outputs": [],
   "source": []
  },
  {
   "cell_type": "code",
   "execution_count": null,
   "metadata": {},
   "outputs": [],
   "source": []
  },
  {
   "cell_type": "code",
   "execution_count": null,
   "metadata": {},
   "outputs": [],
   "source": []
  },
  {
   "cell_type": "code",
   "execution_count": null,
   "metadata": {},
   "outputs": [],
   "source": []
  }
 ],
 "metadata": {
  "kernelspec": {
   "display_name": "Python 3",
   "language": "python",
   "name": "python3"
  },
  "language_info": {
   "codemirror_mode": {
    "name": "ipython",
    "version": 3
   },
   "file_extension": ".py",
   "mimetype": "text/x-python",
   "name": "python",
   "nbconvert_exporter": "python",
   "pygments_lexer": "ipython3",
   "version": "3.7.6"
  }
 },
 "nbformat": 4,
 "nbformat_minor": 4
}
