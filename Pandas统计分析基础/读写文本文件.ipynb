{
 "cells": [
  {
   "cell_type": "code",
   "execution_count": 2,
   "metadata": {},
   "outputs": [
    {
     "name": "stdout",
     "output_type": "stream",
     "text": [
      "使用read_table 读取菜品订单信息长度:\n",
      " 945\n"
     ]
    }
   ],
   "source": [
    "import numpy as np\n",
    "import pandas as pd\n",
    "# 使用read_table 读取菜品订单信息表\n",
    "order = pd.read_table('data/meal_order_info.csv',sep=',',encoding='gbk')\n",
    "print('使用read_table 读取菜品订单信息长度:\\n',len(order))"
   ]
  },
  {
   "cell_type": "code",
   "execution_count": 3,
   "metadata": {},
   "outputs": [
    {
     "name": "stdout",
     "output_type": "stream",
     "text": [
      "使用read_csv 读取菜品订单信息表长度:\n",
      " 945\n"
     ]
    }
   ],
   "source": [
    "# 使用read_csv 读取菜品订单信息表\n",
    "order1 = pd.read_csv('data/meal_order_info.csv',sep=',',encoding='gbk')\n",
    "print('使用read_csv 读取菜品订单信息表长度:\\n',len(order1))"
   ]
  },
  {
   "cell_type": "code",
   "execution_count": 8,
   "metadata": {},
   "outputs": [
    {
     "name": "stdout",
     "output_type": "stream",
     "text": [
      "订单信息表写入文本文件前目录内文件列表为：\n",
      " ['orderInfo.csv', 'userInfo.xlsx']\n",
      "订单信息表写入文本文件后目录内文件列表为：\n",
      " ['orderInfo.csv', 'userInfo.xlsx']\n"
     ]
    }
   ],
   "source": [
    "import os\n",
    "print('订单信息表写入文本文件前目录内文件列表为：\\n',os.listdir('tmp'))\n",
    "## 将order以csv格式存储\n",
    "order.to_csv('tmp/orderInfo.csv',sep = ';',index = False) \n",
    "print('订单信息表写入文本文件后目录内文件列表为：\\n',os.listdir('tmp'))"
   ]
  },
  {
   "cell_type": "code",
   "execution_count": 9,
   "metadata": {},
   "outputs": [
    {
     "name": "stdout",
     "output_type": "stream",
     "text": [
      "使用read_table 读取菜品订单信息:\n",
      "     info_id;emp_id;number_consumers;mode;dining_table_id;dining_table_name;expenditure;dishes_count;accounts_payable;use_start_time;check_closed;lock_time;cashier_id;pc_id;order_number;org_id;print_doc_bill_num;lock_table_info;order_status;phone;name\n",
      "0    417;1442;4;;1501;1022;165;5;165;2016/8/1 11:05...                                                                                                                                                                                                    \n",
      "1    301;1095;3;;1430;1031;321;6;321;2016/8/1 11:15...                                                                                                                                                                                                    \n",
      "2    413;1147;6;;1488;1009;854;15;854;2016/8/1 12:4...                                                                                                                                                                                                    \n",
      "3    415;1166;4;;1502;1023;466;10;466;2016/8/1 12:5...                                                                                                                                                                                                    \n",
      "4    392;1094;10;;1499;1020;704;24;704;2016/8/1 12:...                                                                                                                                                                                                    \n",
      "..                                                 ...                                                                                                                                                                                                    \n",
      "940  641;1095;8;;1492;1013;679;12;679;2016/8/31 21:...                                                                                                                                                                                                    \n",
      "941  672;1089;6;;1489;1010;800;24;800;2016/8/31 21:...                                                                                                                                                                                                    \n",
      "942  692;1155;8;;1492;1013;735;10;735;2016/8/31 21:...                                                                                                                                                                                                    \n",
      "943  647;1094;4;;1485;1006;262;9;262;2016/8/31 21:3...                                                                                                                                                                                                    \n",
      "944  570;1113;8;;1517;1038;589;13;589;2016/8/31 21:...                                                                                                                                                                                                    \n",
      "\n",
      "[945 rows x 1 columns]\n"
     ]
    }
   ],
   "source": [
    "import pandas as pd\n",
    "# 使用read_table 读取菜品订单信息表\n",
    "order = pd.read_table('tmp/orderInfo.csv',sep = ',',encoding='utf8')\n",
    "print('使用read_table 读取菜品订单信息:\\n',order)"
   ]
  },
  {
   "cell_type": "code",
   "execution_count": null,
   "metadata": {},
   "outputs": [],
   "source": []
  },
  {
   "cell_type": "code",
   "execution_count": null,
   "metadata": {},
   "outputs": [],
   "source": []
  },
  {
   "cell_type": "code",
   "execution_count": null,
   "metadata": {},
   "outputs": [],
   "source": []
  },
  {
   "cell_type": "code",
   "execution_count": null,
   "metadata": {},
   "outputs": [],
   "source": []
  },
  {
   "cell_type": "code",
   "execution_count": null,
   "metadata": {},
   "outputs": [],
   "source": []
  },
  {
   "cell_type": "code",
   "execution_count": null,
   "metadata": {},
   "outputs": [],
   "source": []
  },
  {
   "cell_type": "code",
   "execution_count": null,
   "metadata": {},
   "outputs": [],
   "source": []
  },
  {
   "cell_type": "code",
   "execution_count": null,
   "metadata": {},
   "outputs": [],
   "source": []
  },
  {
   "cell_type": "code",
   "execution_count": null,
   "metadata": {},
   "outputs": [],
   "source": []
  },
  {
   "cell_type": "code",
   "execution_count": null,
   "metadata": {},
   "outputs": [],
   "source": []
  },
  {
   "cell_type": "code",
   "execution_count": null,
   "metadata": {},
   "outputs": [],
   "source": []
  }
 ],
 "metadata": {
  "kernelspec": {
   "display_name": "Python 3",
   "language": "python",
   "name": "python3"
  },
  "language_info": {
   "codemirror_mode": {
    "name": "ipython",
    "version": 3
   },
   "file_extension": ".py",
   "mimetype": "text/x-python",
   "name": "python",
   "nbconvert_exporter": "python",
   "pygments_lexer": "ipython3",
   "version": "3.7.6"
  }
 },
 "nbformat": 4,
 "nbformat_minor": 4
}
