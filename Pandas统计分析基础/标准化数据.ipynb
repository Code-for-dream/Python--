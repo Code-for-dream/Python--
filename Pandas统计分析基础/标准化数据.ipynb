{
 "cells": [
  {
   "cell_type": "code",
   "execution_count": 4,
   "metadata": {},
   "outputs": [
    {
     "name": "stdout",
     "output_type": "stream",
     "text": [
      "离差标准化之前销量和售价数据前五行为：\n",
      "            counts  amounts\n",
      "detail_id                 \n",
      "2956            1       49\n",
      "2958            1       48\n",
      "2961            1       30\n",
      "2966            1       25\n",
      "2968            1       13\n",
      "离差标准化之后销量和售价数据前五行为：\n",
      "            counts   amounts\n",
      "detail_id                  \n",
      "2956          0.0  0.271186\n",
      "2958          0.0  0.265537\n",
      "2961          0.0  0.163842\n",
      "2966          0.0  0.135593\n",
      "2968          0.0  0.067797\n"
     ]
    }
   ],
   "source": [
    "import pandas as pd\n",
    "import numpy as np\n",
    "\n",
    "# 读取数据\n",
    "detail = pd.read_csv('data/detail.csv',index_col=0,encoding='gbk')\n",
    "\n",
    "# 自定义离差标准化函数\n",
    "def minmaxscale(data):\n",
    "    data=(data-data.min())/(data.max()-data.min())\n",
    "    return data\n",
    "\n",
    "# 对菜品订单表售价和销量做离差标准化\n",
    "data1 = minmaxscale(detail['counts'])\n",
    "data2 = minmaxscale(detail['amounts'])\n",
    "data3 = pd.concat([data1,data2],axis=1)\n",
    "\n",
    "print('离差标准化之前销量和售价数据前五行为：\\n',detail[['counts','amounts']].head())\n",
    "print('离差标准化之后销量和售价数据前五行为：\\n',data3.head())"
   ]
  },
  {
   "cell_type": "code",
   "execution_count": 5,
   "metadata": {},
   "outputs": [
    {
     "name": "stdout",
     "output_type": "stream",
     "text": [
      "标准差标准化之前销量和售价数据为：\n",
      "            counts  amounts\n",
      "detail_id                 \n",
      "2956            1       49\n",
      "2958            1       48\n",
      "2961            1       30\n",
      "2966            1       25\n",
      "2968            1       13\n",
      "标准差标准化之后销量和售价数据为：\n",
      "              counts   amounts\n",
      "detail_id                    \n",
      "2956      -0.177571  0.116671\n",
      "2958      -0.177571  0.088751\n",
      "2961      -0.177571 -0.413826\n",
      "2966      -0.177571 -0.553431\n",
      "2968      -0.177571 -0.888482\n"
     ]
    }
   ],
   "source": [
    "##自定义标准差标准化函数\n",
    "def StandardScaler(data):\n",
    "    data=(data-data.mean())/data.std()\n",
    "    return data\n",
    "##对菜品订单表售价和销量做标准化\n",
    "data4=StandardScaler(detail['counts'])\n",
    "data5=StandardScaler(detail['amounts'])\n",
    "data6=pd.concat([data4,data5],axis=1)\n",
    "print('标准差标准化之前销量和售价数据为：\\n',\n",
    "    detail[['counts','amounts']].head())\n",
    "print('标准差标准化之后销量和售价数据为：\\n',data6.head())"
   ]
  },
  {
   "cell_type": "code",
   "execution_count": 6,
   "metadata": {},
   "outputs": [
    {
     "name": "stdout",
     "output_type": "stream",
     "text": [
      "小数定标标准化之前的销量和售价数据：\n",
      "            counts  amounts\n",
      "detail_id                 \n",
      "2956            1       49\n",
      "2958            1       48\n",
      "2961            1       30\n",
      "2966            1       25\n",
      "2968            1       13\n",
      "小数定标标准化之后的销量和售价数据：\n",
      "            counts  amounts\n",
      "detail_id                 \n",
      "2956          0.1    0.049\n",
      "2958          0.1    0.048\n",
      "2961          0.1    0.030\n",
      "2966          0.1    0.025\n",
      "2968          0.1    0.013\n"
     ]
    }
   ],
   "source": [
    "##自定义小数定标差标准化函数\n",
    "def DecimalScaler(data):\n",
    "    data=data/10**np.ceil(np.log10(data.abs().max()))\n",
    "    return data\n",
    "##对菜品订单表售价和销量做标准化\n",
    "data7=DecimalScaler(detail['counts'])\n",
    "data8=DecimalScaler(detail['amounts'])\n",
    "data9=pd.concat([data7,data8],axis=1)\n",
    "print('小数定标标准化之前的销量和售价数据：\\n',\n",
    "    detail[['counts','amounts']].head())\n",
    "print('小数定标标准化之后的销量和售价数据：\\n',data9.head())"
   ]
  },
  {
   "cell_type": "code",
   "execution_count": 9,
   "metadata": {},
   "outputs": [
    {
     "name": "stdout",
     "output_type": "stream",
     "text": [
      "178\n",
      "1\n"
     ]
    }
   ],
   "source": [
    "print(detail['amounts'].abs().max())\n",
    "print(detail['amounts'].abs().min())"
   ]
  },
  {
   "cell_type": "code",
   "execution_count": 10,
   "metadata": {},
   "outputs": [
    {
     "data": {
      "text/plain": [
       "3.0"
      ]
     },
     "execution_count": 10,
     "metadata": {},
     "output_type": "execute_result"
    }
   ],
   "source": [
    "np.ceil(np.log10(detail['amounts'].abs().max()))"
   ]
  },
  {
   "cell_type": "code",
   "execution_count": null,
   "metadata": {},
   "outputs": [],
   "source": []
  },
  {
   "cell_type": "code",
   "execution_count": null,
   "metadata": {},
   "outputs": [],
   "source": []
  },
  {
   "cell_type": "code",
   "execution_count": null,
   "metadata": {},
   "outputs": [],
   "source": []
  },
  {
   "cell_type": "code",
   "execution_count": null,
   "metadata": {},
   "outputs": [],
   "source": []
  },
  {
   "cell_type": "code",
   "execution_count": null,
   "metadata": {},
   "outputs": [],
   "source": []
  },
  {
   "cell_type": "code",
   "execution_count": null,
   "metadata": {},
   "outputs": [],
   "source": []
  },
  {
   "cell_type": "code",
   "execution_count": null,
   "metadata": {},
   "outputs": [],
   "source": []
  }
 ],
 "metadata": {
  "kernelspec": {
   "display_name": "Python 3",
   "language": "python",
   "name": "python3"
  },
  "language_info": {
   "codemirror_mode": {
    "name": "ipython",
    "version": 3
   },
   "file_extension": ".py",
   "mimetype": "text/x-python",
   "name": "python",
   "nbconvert_exporter": "python",
   "pygments_lexer": "ipython3",
   "version": "3.7.6"
  }
 },
 "nbformat": 4,
 "nbformat_minor": 4
}
