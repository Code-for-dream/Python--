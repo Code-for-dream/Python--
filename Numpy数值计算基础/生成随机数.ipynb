{
 "cells": [
  {
   "cell_type": "code",
   "execution_count": 4,
   "metadata": {},
   "outputs": [
    {
     "name": "stdout",
     "output_type": "stream",
     "text": [
      "生成的随机数组是：\n",
      " [0.89088355 0.98252222 0.60726593 0.43511794 0.91416087 0.20642155\n",
      " 0.82329272 0.62541041 0.9460886  0.6526103  0.41867304 0.48631469\n",
      " 0.90384376 0.62764518 0.04859266 0.35112443 0.36098473 0.38013463\n",
      " 0.75970368 0.23880264 0.41370917 0.36829973 0.51115666 0.3918578\n",
      " 0.80746811 0.24559219 0.29880255 0.68799472 0.37193573 0.2208611\n",
      " 0.01650774 0.57538038 0.99071933 0.14276812 0.91731803 0.26600382\n",
      " 0.4592113  0.22968411 0.55499163 0.67608456 0.73677056 0.03245919\n",
      " 0.99787746 0.31317251 0.609514   0.20613722 0.48688133 0.66443589\n",
      " 0.21091599 0.03988763 0.35964256 0.52991438 0.59762742 0.9373555\n",
      " 0.3507879  0.33337126 0.61185164 0.10994441 0.44019244 0.62975623\n",
      " 0.3507132  0.28856178 0.30988306 0.49499396 0.19044969 0.95530125\n",
      " 0.18179875 0.3078076  0.44243231 0.46185208 0.02965711 0.21884884\n",
      " 0.64358527 0.71740253 0.42463382 0.7743175  0.87738048 0.17346423\n",
      " 0.23886603 0.80464483 0.04327743 0.15542071 0.57164442 0.58754489\n",
      " 0.43590968 0.18539982 0.71827351 0.84651681 0.57075498 0.21521531\n",
      " 0.47558868 0.88200534 0.24546129 0.44645156 0.42266675 0.64775841\n",
      " 0.14943689 0.77248009 0.91462562 0.87179703] <class 'numpy.ndarray'>\n"
     ]
    }
   ],
   "source": [
    "import numpy as np \n",
    "import random\n",
    "\n",
    "print(\"生成的随机数组是：\\n\",np.random.random(100),type(np.random.random(100)))"
   ]
  },
  {
   "cell_type": "code",
   "execution_count": 3,
   "metadata": {},
   "outputs": [
    {
     "name": "stdout",
     "output_type": "stream",
     "text": [
      "生成的随机数组是：\n",
      " [[0.66853755 0.85059287 0.73399847 0.00943574 0.74102622]\n",
      " [0.64812484 0.21007242 0.16702122 0.86753385 0.62601313]\n",
      " [0.65705224 0.43485591 0.09413849 0.4482269  0.77677105]\n",
      " [0.55423236 0.97847883 0.23799991 0.2235135  0.99786948]\n",
      " [0.39736688 0.47094633 0.52907735 0.42919206 0.4586524 ]]\n"
     ]
    }
   ],
   "source": [
    "print(\"生成的随机数组是：\\n\",np.random.rand(5,5)) # 服从均匀分布的随机数，参数是所创数组的维度"
   ]
  },
  {
   "cell_type": "code",
   "execution_count": 4,
   "metadata": {},
   "outputs": [
    {
     "name": "stdout",
     "output_type": "stream",
     "text": [
      "生成的随机数组是：\n",
      " [[ 1.90526424e+00 -5.28095106e-01 -1.92370581e-01 -1.02804640e+00\n",
      "   1.54618396e-03]\n",
      " [-1.17325557e+00  6.85617268e-01  6.32296632e-01  4.58674852e-01\n",
      "  -8.18089472e-01]\n",
      " [ 3.87373213e-01 -4.65022547e-01 -3.17519291e-01  3.22178812e-01\n",
      "  -8.51674432e-01]\n",
      " [-1.54430756e-01 -2.35476572e-01  1.89628812e+00  2.59178133e-01\n",
      "  -3.69374459e-01]\n",
      " [-9.34505622e-01  5.63024950e-01 -6.49859403e-02  4.08777806e-01\n",
      "  -3.88594715e-01]]\n"
     ]
    }
   ],
   "source": [
    "print(\"生成的随机数组是：\\n\",np.random.randn(5,5)) # 服从正态分布的随机数数组，参数是所创数组的维度"
   ]
  },
  {
   "cell_type": "code",
   "execution_count": 5,
   "metadata": {},
   "outputs": [
    {
     "name": "stdout",
     "output_type": "stream",
     "text": [
      "生成的随机数组是：\n",
      " [[4 2 2 5 7]\n",
      " [8 3 6 2 9]]\n"
     ]
    }
   ],
   "source": [
    "print(\"生成的随机数组是：\\n\",np.random.randint(2,10,size=[2,5])) # 生成给定上下限范围的随机数数组，size是所创数组的维度（shape）"
   ]
  },
  {
   "cell_type": "code",
   "execution_count": 14,
   "metadata": {},
   "outputs": [
    {
     "name": "stdout",
     "output_type": "stream",
     "text": [
      "0.13436424411240122\n"
     ]
    }
   ],
   "source": [
    "import random \n",
    "\n",
    "random.seed(1)\n",
    "print(random.random())"
   ]
  },
  {
   "cell_type": "code",
   "execution_count": 16,
   "metadata": {},
   "outputs": [
    {
     "name": "stdout",
     "output_type": "stream",
     "text": [
      "0.8474337369372327\n"
     ]
    }
   ],
   "source": [
    "print(random.random())"
   ]
  },
  {
   "cell_type": "code",
   "execution_count": 15,
   "metadata": {},
   "outputs": [
    {
     "name": "stdout",
     "output_type": "stream",
     "text": [
      "0.13436424411240122\n"
     ]
    }
   ],
   "source": [
    "random.seed(1)\n",
    "print(random.random())"
   ]
  },
  {
   "cell_type": "code",
   "execution_count": 23,
   "metadata": {},
   "outputs": [
    {
     "name": "stdout",
     "output_type": "stream",
     "text": [
      "0.505246090121704\n",
      "0.06528650438687811\n",
      "0.42812232759738944\n",
      "0.09653091566061256\n",
      "0.12715997170127746\n"
     ]
    }
   ],
   "source": [
    "import numpy as np  \n",
    "# np.random.seed(2)  # 设种子为seed(2)\n",
    "for i in range(5):\n",
    "    print(np.random.random())"
   ]
  },
  {
   "cell_type": "code",
   "execution_count": 31,
   "metadata": {},
   "outputs": [
    {
     "name": "stdout",
     "output_type": "stream",
     "text": [
      "[7 4 1 2 0 3 8 5 6 9]\n",
      "[6 4 3 5 2 1]\n"
     ]
    }
   ],
   "source": [
    "a = np.random.permutation(10)\n",
    "print(a)\n",
    "\n",
    "c = np.random.permutation([1,2,3,4,5,6])\n",
    "print(c)"
   ]
  },
  {
   "cell_type": "code",
   "execution_count": 30,
   "metadata": {},
   "outputs": [
    {
     "name": "stdout",
     "output_type": "stream",
     "text": [
      "未排序之前：\n",
      " [[ 0  1  2  3]\n",
      " [ 4  5  6  7]\n",
      " [ 8  9 10 11]]\n",
      "排序之后：\n",
      "[[ 4  5  6  7]\n",
      " [ 8  9 10 11]\n",
      " [ 0  1  2  3]]\n",
      "[[ 4  5  6  7]\n",
      " [ 0  1  2  3]\n",
      " [ 8  9 10 11]]\n",
      "[[ 4  5  6  7]\n",
      " [ 0  1  2  3]\n",
      " [ 8  9 10 11]]\n"
     ]
    }
   ],
   "source": [
    "b = np.arange(12).reshape(3,4)\n",
    "print(\"未排序之前：\\n\",b)\n",
    "print(\"排序之后：\")\n",
    "print(np.random.permutation(b))\n",
    "print(np.random.permutation(b))\n",
    "print(np.random.permutation(b))"
   ]
  },
  {
   "cell_type": "code",
   "execution_count": 46,
   "metadata": {},
   "outputs": [
    {
     "name": "stdout",
     "output_type": "stream",
     "text": [
      "[0 1 2 3 4 5]\n",
      "[4 0 2 3 1 5]\n",
      "未排序之前：\n",
      " [[ 0  1  2  3]\n",
      " [ 4  5  6  7]\n",
      " [ 8  9 10 11]]\n",
      "打乱元素之后：\n",
      "[[ 4  5  6  7]\n",
      " [ 0  1  2  3]\n",
      " [ 8  9 10 11]]\n",
      "[[ 0  1  2  3]\n",
      " [ 8  9 10 11]\n",
      " [ 4  5  6  7]]\n"
     ]
    }
   ],
   "source": [
    "d = np.arange(6)\n",
    "print(d)\n",
    "np.random.shuffle(d)\n",
    "print(d)\n",
    "\n",
    "b = np.arange(12).reshape(3,4)\n",
    "print(\"未排序之前：\\n\",b)\n",
    "print(\"打乱元素之后：\")\n",
    "np.random.shuffle(b)\n",
    "print(b)\n",
    "np.random.shuffle(b)\n",
    "print(b)"
   ]
  },
  {
   "cell_type": "code",
   "execution_count": 3,
   "metadata": {},
   "outputs": [
    {
     "name": "stdout",
     "output_type": "stream",
     "text": [
      "[0 0 1 1 1 1 0 1 1 0]\n",
      "[4 2 3 4 3 1 2 3 2 1]\n",
      "[[2 3 4 3 4]\n",
      " [2 3 1 1 3]\n",
      " [2 2 5 3 0]\n",
      " [2 2 3 4 3]\n",
      " [2 3 2 3 2]\n",
      " [4 1 3 3 2]\n",
      " [1 0 3 2 5]\n",
      " [2 2 3 2 3]\n",
      " [2 2 3 2 3]\n",
      " [2 2 2 3 1]]\n"
     ]
    }
   ],
   "source": [
    "import numpy as np\n",
    "# binomial（）\n",
    "test1 = np.random.binomial(1, 0.5, 10)\n",
    "print(test1)\n",
    "test2 = np.random.binomial(5, 0.5, 10)\n",
    "print(test2)\n",
    "test3 = np.random.binomial(5, 0.5, (10, 5))\n",
    "print(test3)"
   ]
  },
  {
   "cell_type": "code",
   "execution_count": 4,
   "metadata": {},
   "outputs": [
    {
     "name": "stdout",
     "output_type": "stream",
     "text": [
      "[[0.12542855]\n",
      " [0.78376119]]\n"
     ]
    }
   ],
   "source": [
    "# normal（）\n",
    "# uniform()\n",
    "b = np.random.uniform(size=[2,1])\n",
    "print(b)"
   ]
  },
  {
   "cell_type": "code",
   "execution_count": null,
   "metadata": {},
   "outputs": [],
   "source": []
  },
  {
   "cell_type": "code",
   "execution_count": null,
   "metadata": {},
   "outputs": [],
   "source": []
  },
  {
   "cell_type": "code",
   "execution_count": null,
   "metadata": {},
   "outputs": [],
   "source": []
  },
  {
   "cell_type": "code",
   "execution_count": null,
   "metadata": {},
   "outputs": [],
   "source": []
  },
  {
   "cell_type": "code",
   "execution_count": null,
   "metadata": {},
   "outputs": [],
   "source": []
  },
  {
   "cell_type": "code",
   "execution_count": null,
   "metadata": {},
   "outputs": [],
   "source": []
  },
  {
   "cell_type": "code",
   "execution_count": null,
   "metadata": {},
   "outputs": [],
   "source": []
  },
  {
   "cell_type": "code",
   "execution_count": null,
   "metadata": {},
   "outputs": [],
   "source": []
  },
  {
   "cell_type": "code",
   "execution_count": null,
   "metadata": {},
   "outputs": [],
   "source": []
  },
  {
   "cell_type": "code",
   "execution_count": null,
   "metadata": {},
   "outputs": [],
   "source": []
  },
  {
   "cell_type": "code",
   "execution_count": null,
   "metadata": {},
   "outputs": [],
   "source": []
  },
  {
   "cell_type": "code",
   "execution_count": null,
   "metadata": {},
   "outputs": [],
   "source": []
  },
  {
   "cell_type": "code",
   "execution_count": null,
   "metadata": {},
   "outputs": [],
   "source": []
  },
  {
   "cell_type": "code",
   "execution_count": null,
   "metadata": {},
   "outputs": [],
   "source": []
  },
  {
   "cell_type": "code",
   "execution_count": null,
   "metadata": {},
   "outputs": [],
   "source": []
  },
  {
   "cell_type": "code",
   "execution_count": null,
   "metadata": {},
   "outputs": [],
   "source": []
  },
  {
   "cell_type": "code",
   "execution_count": null,
   "metadata": {},
   "outputs": [],
   "source": []
  },
  {
   "cell_type": "code",
   "execution_count": null,
   "metadata": {},
   "outputs": [],
   "source": []
  },
  {
   "cell_type": "code",
   "execution_count": null,
   "metadata": {},
   "outputs": [],
   "source": []
  },
  {
   "cell_type": "code",
   "execution_count": null,
   "metadata": {},
   "outputs": [],
   "source": []
  },
  {
   "cell_type": "code",
   "execution_count": null,
   "metadata": {},
   "outputs": [],
   "source": []
  },
  {
   "cell_type": "code",
   "execution_count": null,
   "metadata": {},
   "outputs": [],
   "source": []
  },
  {
   "cell_type": "code",
   "execution_count": null,
   "metadata": {},
   "outputs": [],
   "source": []
  },
  {
   "cell_type": "code",
   "execution_count": null,
   "metadata": {},
   "outputs": [],
   "source": [
    " "
   ]
  },
  {
   "cell_type": "code",
   "execution_count": null,
   "metadata": {},
   "outputs": [],
   "source": []
  },
  {
   "cell_type": "code",
   "execution_count": null,
   "metadata": {},
   "outputs": [],
   "source": []
  },
  {
   "cell_type": "code",
   "execution_count": null,
   "metadata": {},
   "outputs": [],
   "source": []
  },
  {
   "cell_type": "code",
   "execution_count": null,
   "metadata": {},
   "outputs": [],
   "source": []
  },
  {
   "cell_type": "code",
   "execution_count": null,
   "metadata": {},
   "outputs": [],
   "source": []
  },
  {
   "cell_type": "code",
   "execution_count": null,
   "metadata": {},
   "outputs": [],
   "source": []
  },
  {
   "cell_type": "code",
   "execution_count": null,
   "metadata": {},
   "outputs": [],
   "source": []
  },
  {
   "cell_type": "code",
   "execution_count": null,
   "metadata": {},
   "outputs": [],
   "source": []
  },
  {
   "cell_type": "code",
   "execution_count": null,
   "metadata": {},
   "outputs": [],
   "source": []
  },
  {
   "cell_type": "code",
   "execution_count": null,
   "metadata": {},
   "outputs": [],
   "source": []
  },
  {
   "cell_type": "code",
   "execution_count": null,
   "metadata": {},
   "outputs": [],
   "source": []
  },
  {
   "cell_type": "code",
   "execution_count": null,
   "metadata": {},
   "outputs": [],
   "source": []
  },
  {
   "cell_type": "code",
   "execution_count": null,
   "metadata": {},
   "outputs": [],
   "source": []
  },
  {
   "cell_type": "code",
   "execution_count": null,
   "metadata": {},
   "outputs": [],
   "source": []
  },
  {
   "cell_type": "code",
   "execution_count": null,
   "metadata": {},
   "outputs": [],
   "source": []
  },
  {
   "cell_type": "code",
   "execution_count": null,
   "metadata": {},
   "outputs": [],
   "source": []
  }
 ],
 "metadata": {
  "kernelspec": {
   "display_name": "Python 3",
   "language": "python",
   "name": "python3"
  },
  "language_info": {
   "codemirror_mode": {
    "name": "ipython",
    "version": 3
   },
   "file_extension": ".py",
   "mimetype": "text/x-python",
   "name": "python",
   "nbconvert_exporter": "python",
   "pygments_lexer": "ipython3",
   "version": "3.7.6"
  }
 },
 "nbformat": 4,
 "nbformat_minor": 4
}
