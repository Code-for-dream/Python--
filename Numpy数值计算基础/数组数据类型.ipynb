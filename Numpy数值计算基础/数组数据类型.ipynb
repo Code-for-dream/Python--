{
 "cells": [
  {
   "cell_type": "code",
   "execution_count": 1,
   "metadata": {},
   "outputs": [
    {
     "name": "stdout",
     "output_type": "stream",
     "text": [
      "转换结果为： 42.0\n"
     ]
    }
   ],
   "source": [
    "import numpy as np  #导入numpy库\n",
    "\n",
    "# 数组数据类型的转换函数\n",
    "\n",
    "print(\"转换结果为：\",np.float64(42)) #整型转换为浮点型"
   ]
  },
  {
   "cell_type": "code",
   "execution_count": 2,
   "metadata": {},
   "outputs": [
    {
     "name": "stdout",
     "output_type": "stream",
     "text": [
      "转换结果为： 42\n"
     ]
    }
   ],
   "source": [
    "print(\"转换结果为：\",np.int8(42.0)) #浮点型转换为整型"
   ]
  },
  {
   "cell_type": "code",
   "execution_count": 6,
   "metadata": {},
   "outputs": [
    {
     "name": "stdout",
     "output_type": "stream",
     "text": [
      "转换结果为： True\n"
     ]
    }
   ],
   "source": [
    "print(\"转换结果为：\",np.bool(32))  #整型转换为布尔型"
   ]
  },
  {
   "cell_type": "code",
   "execution_count": 4,
   "metadata": {},
   "outputs": [
    {
     "name": "stdout",
     "output_type": "stream",
     "text": [
      "转换结果为： False\n"
     ]
    }
   ],
   "source": [
    "print(\"转换结果为：\",np.bool(0))  #整型转换为布尔型"
   ]
  },
  {
   "cell_type": "code",
   "execution_count": 5,
   "metadata": {},
   "outputs": [
    {
     "name": "stdout",
     "output_type": "stream",
     "text": [
      "转换结果为： 1.0\n"
     ]
    }
   ],
   "source": [
    "print(\"转换结果为：\",np.float(True)) #布尔型转换为浮点型"
   ]
  },
  {
   "cell_type": "code",
   "execution_count": 7,
   "metadata": {},
   "outputs": [
    {
     "name": "stdout",
     "output_type": "stream",
     "text": [
      "转换结果为： 0.0\n"
     ]
    }
   ],
   "source": [
    "print(\"转换结果为：\",np.float(False)) #布尔型转换为浮点型"
   ]
  },
  {
   "cell_type": "code",
   "execution_count": 9,
   "metadata": {},
   "outputs": [
    {
     "name": "stdout",
     "output_type": "stream",
     "text": [
      "数据类型为： [('name', '<U40'), ('numitems', '<i8'), ('price', '<f8')]\n"
     ]
    }
   ],
   "source": [
    "df = np.dtype([(\"name\",np.str_,40),(\"numitems\",np.int64),(\"price\",np.float64)])\n",
    "print(\"数据类型为：\",df)"
   ]
  },
  {
   "cell_type": "code",
   "execution_count": 10,
   "metadata": {},
   "outputs": [
    {
     "name": "stdout",
     "output_type": "stream",
     "text": [
      "数据类型为： <U40\n"
     ]
    }
   ],
   "source": [
    "print(\"数据类型为：\",df[\"name\"])"
   ]
  },
  {
   "cell_type": "code",
   "execution_count": 11,
   "metadata": {},
   "outputs": [
    {
     "name": "stdout",
     "output_type": "stream",
     "text": [
      "数据类型为： <U40\n"
     ]
    }
   ],
   "source": [
    "print(\"数据类型为：\",np.dtype(df[\"name\"]))"
   ]
  },
  {
   "cell_type": "code",
   "execution_count": 13,
   "metadata": {},
   "outputs": [
    {
     "name": "stdout",
     "output_type": "stream",
     "text": [
      "自定义数据为：\n",
      " [['tomatoes' '42' '4.14']\n",
      " ['cabbages' '13' '1.72']]\n"
     ]
    }
   ],
   "source": [
    "itemz = np.array([(\"tomatoes\",42,4.14),(\"cabbages\",13,1.72)])\n",
    "print(\"自定义数据为：\\n\",itemz)"
   ]
  },
  {
   "cell_type": "code",
   "execution_count": null,
   "metadata": {},
   "outputs": [],
   "source": []
  },
  {
   "cell_type": "code",
   "execution_count": null,
   "metadata": {},
   "outputs": [],
   "source": []
  },
  {
   "cell_type": "code",
   "execution_count": null,
   "metadata": {},
   "outputs": [],
   "source": []
  }
 ],
 "metadata": {
  "kernelspec": {
   "display_name": "Python 3",
   "language": "python",
   "name": "python3"
  },
  "language_info": {
   "codemirror_mode": {
    "name": "ipython",
    "version": 3
   },
   "file_extension": ".py",
   "mimetype": "text/x-python",
   "name": "python",
   "nbconvert_exporter": "python",
   "pygments_lexer": "ipython3",
   "version": "3.7.6"
  }
 },
 "nbformat": 4,
 "nbformat_minor": 4
}
