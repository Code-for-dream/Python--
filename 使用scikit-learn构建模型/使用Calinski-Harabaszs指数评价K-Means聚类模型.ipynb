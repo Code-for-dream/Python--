{
 "cells": [
  {
   "cell_type": "code",
   "execution_count": 2,
   "metadata": {},
   "outputs": [
    {
     "name": "stdout",
     "output_type": "stream",
     "text": [
      "iris数据聚2类calinski_harabaz指数为：513.924546\n",
      "iris数据聚3类calinski_harabaz指数为：561.627757\n",
      "iris数据聚4类calinski_harabaz指数为：530.765808\n",
      "iris数据聚5类calinski_harabaz指数为：495.541488\n",
      "iris数据聚6类calinski_harabaz指数为：469.836633\n"
     ]
    }
   ],
   "source": [
    "from sklearn.datasets import load_iris\n",
    "\n",
    "iris = load_iris()           # 加载iris数据集\n",
    "iris_data = iris['data']     # 提取数据集特征\n",
    "iris_target = iris['target'] # 提取数据集标签 \n",
    "\n",
    "from sklearn.cluster import KMeans\n",
    "from sklearn.metrics import calinski_harabasz_score\n",
    "\n",
    "for i in range(2,7):\n",
    "    ##构建并训练模型\n",
    "    kmeans = KMeans(n_clusters = i,random_state=123).fit(iris_data)\n",
    "    score = calinski_harabasz_score(iris_data,kmeans.labels_)\n",
    "    print('iris数据聚%d类calinski_harabaz指数为：%f'%(i,score))"
   ]
  },
  {
   "cell_type": "code",
   "execution_count": null,
   "metadata": {},
   "outputs": [],
   "source": []
  },
  {
   "cell_type": "code",
   "execution_count": null,
   "metadata": {},
   "outputs": [],
   "source": []
  }
 ],
 "metadata": {
  "kernelspec": {
   "display_name": "Python 3",
   "language": "python",
   "name": "python3"
  },
  "language_info": {
   "codemirror_mode": {
    "name": "ipython",
    "version": 3
   },
   "file_extension": ".py",
   "mimetype": "text/x-python",
   "name": "python",
   "nbconvert_exporter": "python",
   "pygments_lexer": "ipython3",
   "version": "3.7.6"
  }
 },
 "nbformat": 4,
 "nbformat_minor": 4
}
