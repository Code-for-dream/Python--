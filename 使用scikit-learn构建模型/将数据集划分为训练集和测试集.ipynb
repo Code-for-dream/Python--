{
 "cells": [
  {
   "cell_type": "code",
   "execution_count": 6,
   "metadata": {},
   "outputs": [
    {
     "name": "stdout",
     "output_type": "stream",
     "text": [
      "原始数据集数据的形状为： (569, 30)\n",
      "原始数据集标签的形状为： (569,)\n",
      "训练集数据的形状为： (455, 30)\n",
      "训练集数据的标签形状为： (455,)\n",
      "测试集数据的形状为： (114, 30)\n",
      "测试集数据的标签形状为： (114,)\n"
     ]
    }
   ],
   "source": [
    "from sklearn.datasets import load_breast_cancer\n",
    "\n",
    "cancer = load_breast_cancer() # 将数据集赋值给cancer变量\n",
    "cancer_data = cancer['data']\n",
    "cancer_target = cancer['target'] \n",
    "\n",
    "print('原始数据集数据的形状为：',cancer_data.shape)\n",
    "print('原始数据集标签的形状为：',cancer_target.shape)\n",
    "\n",
    "from sklearn.model_selection import train_test_split\n",
    "\n",
    "cancer_data_train,cancer_data_test,cancer_target_train,cancer_target_test = train_test_split(cancer_data,cancer_target,\n",
    "                                                                                             test_size=0.2,random_state=42)\n",
    "print('训练集数据的形状为：',cancer_data_train.shape)\n",
    "print('训练集数据的标签形状为：',cancer_target_train.shape)\n",
    "print('测试集数据的形状为：',cancer_data_test.shape)\n",
    "print('测试集数据的标签形状为：',cancer_target_test.shape)\n",
    "\n"
   ]
  },
  {
   "cell_type": "code",
   "execution_count": null,
   "metadata": {},
   "outputs": [],
   "source": []
  },
  {
   "cell_type": "code",
   "execution_count": null,
   "metadata": {},
   "outputs": [],
   "source": []
  },
  {
   "cell_type": "code",
   "execution_count": null,
   "metadata": {},
   "outputs": [],
   "source": []
  },
  {
   "cell_type": "code",
   "execution_count": null,
   "metadata": {},
   "outputs": [],
   "source": []
  },
  {
   "cell_type": "code",
   "execution_count": null,
   "metadata": {},
   "outputs": [],
   "source": []
  },
  {
   "cell_type": "code",
   "execution_count": null,
   "metadata": {},
   "outputs": [],
   "source": []
  },
  {
   "cell_type": "code",
   "execution_count": null,
   "metadata": {},
   "outputs": [],
   "source": []
  }
 ],
 "metadata": {
  "kernelspec": {
   "display_name": "Python 3",
   "language": "python",
   "name": "python3"
  },
  "language_info": {
   "codemirror_mode": {
    "name": "ipython",
    "version": 3
   },
   "file_extension": ".py",
   "mimetype": "text/x-python",
   "name": "python",
   "nbconvert_exporter": "python",
   "pygments_lexer": "ipython3",
   "version": "3.7.6"
  }
 },
 "nbformat": 4,
 "nbformat_minor": 4
}
