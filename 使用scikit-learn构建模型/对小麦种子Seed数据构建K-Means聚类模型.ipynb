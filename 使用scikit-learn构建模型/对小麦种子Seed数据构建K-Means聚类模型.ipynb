{
 "cells": [
  {
   "cell_type": "code",
   "execution_count": 28,
   "metadata": {},
   "outputs": [
    {
     "name": "stdout",
     "output_type": "stream",
     "text": [
      "数据集的形状为： (210, 9)\n",
      "seed数据的数据类型为： <class 'pandas.core.frame.DataFrame'>\n",
      "构建的K-Means模型为：\n",
      " KMeans(algorithm='auto', copy_x=True, init='k-means++', max_iter=300,\n",
      "       n_clusters=3, n_init=10, n_jobs=None, precompute_distances='auto',\n",
      "       random_state=42, tol=0.0001, verbose=0)\n"
     ]
    }
   ],
   "source": [
    "import pandas as pd\n",
    "from sklearn.preprocessing import StandardScaler\n",
    "from sklearn.cluster import KMeans\n",
    "\n",
    "Seed = pd.read_csv('data/seeds_dataset.txt',sep='\\t')\n",
    "#seed.to_csv('data/seeds_datas.csv',sep=',',index=False)\n",
    "seed = pd.read_csv('data/seeds_datas.csv')\n",
    "print('数据集的形状为：',seed.shape)\n",
    "print('seed数据的数据类型为：',type(seed))\n",
    "\n",
    "# 处理数据\n",
    "seeds_data = seed.iloc[:,1:8].values\n",
    "# seeds_target = seed.iloc[:,8].values\n",
    "seeds_target = seed['target'].values\n",
    "seeds_names = seed.columns[1:8]\n",
    "\n",
    "# 设定并应用训练规则\n",
    "stdScale = StandardScaler().fit(seeds_data)\n",
    "seeds_dataScale = stdScale.transform(seeds_data)\n",
    "\n",
    "# 构建并训练模型\n",
    "kmeans = KMeans(n_clusters=3,random_state=42).fit(seeds_data)\n",
    "print('构建的K-Means模型为：\\n',kmeans)\n"
   ]
  },
  {
   "cell_type": "code",
   "execution_count": 29,
   "metadata": {},
   "outputs": [
    {
     "name": "stdout",
     "output_type": "stream",
     "text": [
      "数据集形状为： (210, 8)\n",
      "构建的KM-eans模型为：\n",
      " KMeans(algorithm='auto', copy_x=True, init='k-means++', max_iter=300,\n",
      "       n_clusters=3, n_init=10, n_jobs=None, precompute_distances='auto',\n",
      "       random_state=42, tol=0.0001, verbose=0)\n"
     ]
    }
   ],
   "source": [
    "import pandas as pd\n",
    "from sklearn.preprocessing import StandardScaler\n",
    "from sklearn.cluster import KMeans\n",
    "\n",
    "seeds = pd.read_csv('data/seeds_dataset.txt',sep = '\\t')\n",
    "print('数据集形状为：', seeds.shape)\n",
    "\n",
    "## 处理数据\n",
    "seeds_data = seeds.iloc[:,:7].values\n",
    "seeds_target = seeds.iloc[:,7].values\n",
    "sees_names = seeds.columns[:7]\n",
    "\n",
    "# 设定并应用训练规则\n",
    "stdScale = StandardScaler().fit(seeds_data)\n",
    "seeds_dataScale = stdScale.transform(seeds_data)\n",
    "##构建并训练模型\n",
    "kmeans = KMeans(n_clusters = 3,random_state=42).fit(seeds_data)\n",
    "print('构建的KM-eans模型为：\\n',kmeans)"
   ]
  },
  {
   "cell_type": "code",
   "execution_count": null,
   "metadata": {},
   "outputs": [],
   "source": []
  },
  {
   "cell_type": "code",
   "execution_count": null,
   "metadata": {},
   "outputs": [],
   "source": []
  },
  {
   "cell_type": "code",
   "execution_count": null,
   "metadata": {},
   "outputs": [],
   "source": []
  },
  {
   "cell_type": "code",
   "execution_count": null,
   "metadata": {},
   "outputs": [],
   "source": []
  },
  {
   "cell_type": "code",
   "execution_count": null,
   "metadata": {},
   "outputs": [],
   "source": []
  },
  {
   "cell_type": "code",
   "execution_count": null,
   "metadata": {},
   "outputs": [],
   "source": []
  },
  {
   "cell_type": "code",
   "execution_count": null,
   "metadata": {},
   "outputs": [],
   "source": []
  },
  {
   "cell_type": "code",
   "execution_count": null,
   "metadata": {},
   "outputs": [],
   "source": []
  },
  {
   "cell_type": "code",
   "execution_count": null,
   "metadata": {},
   "outputs": [],
   "source": []
  },
  {
   "cell_type": "code",
   "execution_count": null,
   "metadata": {},
   "outputs": [],
   "source": []
  },
  {
   "cell_type": "code",
   "execution_count": null,
   "metadata": {},
   "outputs": [],
   "source": []
  },
  {
   "cell_type": "code",
   "execution_count": null,
   "metadata": {},
   "outputs": [],
   "source": []
  },
  {
   "cell_type": "code",
   "execution_count": null,
   "metadata": {},
   "outputs": [],
   "source": []
  },
  {
   "cell_type": "code",
   "execution_count": null,
   "metadata": {},
   "outputs": [],
   "source": []
  },
  {
   "cell_type": "code",
   "execution_count": null,
   "metadata": {},
   "outputs": [],
   "source": []
  }
 ],
 "metadata": {
  "kernelspec": {
   "display_name": "Python 3",
   "language": "python",
   "name": "python3"
  },
  "language_info": {
   "codemirror_mode": {
    "name": "ipython",
    "version": 3
   },
   "file_extension": ".py",
   "mimetype": "text/x-python",
   "name": "python",
   "nbconvert_exporter": "python",
   "pygments_lexer": "ipython3",
   "version": "3.7.6"
  }
 },
 "nbformat": 4,
 "nbformat_minor": 4
}
