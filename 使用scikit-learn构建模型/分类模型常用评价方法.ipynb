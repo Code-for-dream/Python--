{
 "cells": [
  {
   "cell_type": "code",
   "execution_count": 2,
   "metadata": {},
   "outputs": [
    {
     "name": "stdout",
     "output_type": "stream",
     "text": [
      "建立的SVM模型为：\n",
      " SVC(C=1.0, break_ties=False, cache_size=200, class_weight=None, coef0=0.0,\n",
      "    decision_function_shape='ovr', degree=3, gamma='scale', kernel='rbf',\n",
      "    max_iter=-1, probability=False, random_state=None, shrinking=True,\n",
      "    tol=0.001, verbose=False)\n",
      "预测前20个结果为：\n",
      " [1 0 0 0 1 1 1 1 1 1 1 1 0 1 1 1 0 0 1 1]\n",
      "使用SVM预测breast_cancer数据的准确率为： 0.9736842105263158\n",
      "使用SVM预测breast_cancer数据的精确率为： 0.9594594594594594\n",
      "使用SVM预测breast_cancer数据的召回率为： 1.0\n",
      "使用SVM预测breast_cancer数据的F1值为： 0.9793103448275862\n",
      "使用SVM预测breast_cancer数据的Cohen’s Kappa系数为： 0.9432082364662903\n"
     ]
    }
   ],
   "source": [
    "import numpy as np\n",
    "from sklearn.datasets import load_breast_cancer\n",
    "from sklearn.svm import SVC\n",
    "from sklearn.model_selection import train_test_split\n",
    "from sklearn.preprocessing import StandardScaler\n",
    "\n",
    "cancer = load_breast_cancer()\n",
    "cancer_data = cancer['data']\n",
    "cancer_target = cancer['target']\n",
    "cancer_names = cancer['feature_names']\n",
    "\n",
    "## 将数据划分为训练集测试集\n",
    "cancer_data_train,cancer_data_test, \\\n",
    "cancer_target_train,cancer_target_test = \\\n",
    "train_test_split(cancer_data,cancer_target,\n",
    "      test_size = 0.2,random_state = 22)\n",
    "\n",
    "## 数据标准化\n",
    "stdScaler = StandardScaler().fit(cancer_data_train)\n",
    "cancer_trainStd = stdScaler.transform(cancer_data_train)\n",
    "cancer_testStd = stdScaler.transform(cancer_data_test)\n",
    "\n",
    "## 建立SVM模型\n",
    "svm = SVC().fit(cancer_trainStd,cancer_target_train)\n",
    "print('建立的SVM模型为：\\n',svm)\n",
    "\n",
    "## 预测训练集结果\n",
    "cancer_target_pred = svm.predict(cancer_testStd)\n",
    "print('预测前20个结果为：\\n',cancer_target_pred[:20])\n",
    "\n",
    "from sklearn.metrics import accuracy_score,precision_score, \\\n",
    "recall_score,f1_score,cohen_kappa_score\n",
    "print('使用SVM预测breast_cancer数据的准确率为：',\n",
    "      accuracy_score(cancer_target_test,cancer_target_pred))\n",
    "print('使用SVM预测breast_cancer数据的精确率为：',\n",
    "      precision_score(cancer_target_test,cancer_target_pred))\n",
    "print('使用SVM预测breast_cancer数据的召回率为：',\n",
    "      recall_score(cancer_target_test,cancer_target_pred))\n",
    "print('使用SVM预测breast_cancer数据的F1值为：',\n",
    "      f1_score(cancer_target_test,cancer_target_pred))\n",
    "print('使用SVM预测breast_cancer数据的Cohen’s Kappa系数为：',\n",
    "      cohen_kappa_score(cancer_target_test,cancer_target_pred))"
   ]
  },
  {
   "cell_type": "code",
   "execution_count": null,
   "metadata": {},
   "outputs": [],
   "source": []
  },
  {
   "cell_type": "code",
   "execution_count": null,
   "metadata": {},
   "outputs": [],
   "source": []
  }
 ],
 "metadata": {
  "kernelspec": {
   "display_name": "Python 3",
   "language": "python",
   "name": "python3"
  },
  "language_info": {
   "codemirror_mode": {
    "name": "ipython",
    "version": 3
   },
   "file_extension": ".py",
   "mimetype": "text/x-python",
   "name": "python",
   "nbconvert_exporter": "python",
   "pygments_lexer": "ipython3",
   "version": "3.7.6"
  }
 },
 "nbformat": 4,
 "nbformat_minor": 4
}
