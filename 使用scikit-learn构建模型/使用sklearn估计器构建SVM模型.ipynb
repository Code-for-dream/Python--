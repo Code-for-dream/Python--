{
 "cells": [
  {
   "cell_type": "code",
   "execution_count": 2,
   "metadata": {},
   "outputs": [
    {
     "name": "stdout",
     "output_type": "stream",
     "text": [
      "建立的SVM模型为：\n",
      " SVC(C=1.0, break_ties=False, cache_size=200, class_weight=None, coef0=0.0,\n",
      "    decision_function_shape='ovr', degree=3, gamma='scale', kernel='rbf',\n",
      "    max_iter=-1, probability=False, random_state=None, shrinking=True,\n",
      "    tol=0.001, verbose=False)\n",
      "预测前20个结果为：\n",
      " [1 0 0 0 1 1 1 1 1 1 1 1 0 1 1 1 0 0 1 1]\n",
      "预测对的结果数目为： 111\n",
      "预测错的的结果数目为： 3\n",
      "预测结果准确率为： 0.9736842105263158\n"
     ]
    }
   ],
   "source": [
    "## 加载所需的函数,\n",
    "import numpy as np\n",
    "from sklearn.datasets import load_breast_cancer\n",
    "from sklearn.svm import SVC\n",
    "from sklearn.model_selection import train_test_split\n",
    "from sklearn.preprocessing import StandardScaler\n",
    "\n",
    "cancer = load_breast_cancer()\n",
    "cancer_data = cancer['data']\n",
    "cancer_target = cancer['target']\n",
    "cancer_names = cancer['feature_names']\n",
    "\n",
    "## 将数据划分为训练集测试集\n",
    "cancer_data_train,cancer_data_test,cancer_target_train,cancer_target_test = \\\n",
    "train_test_split(cancer_data,cancer_target,test_size = 0.2,random_state = 22)\n",
    "\n",
    "## 数据标准化\n",
    "stdScaler = StandardScaler().fit(cancer_data_train)\n",
    "cancer_trainStd = stdScaler.transform(cancer_data_train)\n",
    "cancer_testStd = stdScaler.transform(cancer_data_test)\n",
    "\n",
    "## 建立SVM模型\n",
    "svm = SVC().fit(cancer_trainStd,cancer_target_train)\n",
    "print('建立的SVM模型为：\\n',svm)\n",
    "\n",
    "\n",
    "## 预测训练集结果\n",
    "cancer_target_pred = svm.predict(cancer_testStd)\n",
    "print('预测前20个结果为：\\n',cancer_target_pred[:20])\n",
    "\n",
    "## 求出预测和真实一样的数目\n",
    "true = np.sum(cancer_target_pred == cancer_target_test )\n",
    "print('预测对的结果数目为：', true)\n",
    "print('预测错的的结果数目为：', cancer_target_test.shape[0]-true)\n",
    "print('预测结果准确率为：', true/cancer_target_test.shape[0])"
   ]
  },
  {
   "cell_type": "code",
   "execution_count": null,
   "metadata": {},
   "outputs": [],
   "source": []
  },
  {
   "cell_type": "code",
   "execution_count": null,
   "metadata": {},
   "outputs": [],
   "source": []
  }
 ],
 "metadata": {
  "kernelspec": {
   "display_name": "Python 3",
   "language": "python",
   "name": "python3"
  },
  "language_info": {
   "codemirror_mode": {
    "name": "ipython",
    "version": 3
   },
   "file_extension": ".py",
   "mimetype": "text/x-python",
   "name": "python",
   "nbconvert_exporter": "python",
   "pygments_lexer": "ipython3",
   "version": "3.7.6"
  }
 },
 "nbformat": 4,
 "nbformat_minor": 4
}
