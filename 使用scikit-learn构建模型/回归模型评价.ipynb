{
 "cells": [
  {
   "cell_type": "code",
   "execution_count": 2,
   "metadata": {},
   "outputs": [
    {
     "name": "stdout",
     "output_type": "stream",
     "text": [
      "建立的Linear Regression模型为：\n",
      " LinearRegression(copy_X=True, fit_intercept=True, n_jobs=None, normalize=False)\n",
      "预测前20个结果为：\n",
      " [21.16289134 19.67630366 22.02458756 24.61877465 14.44016461 23.32107187\n",
      " 16.64386997 14.97085403 33.58043891 17.49079058 25.50429987 36.60653092\n",
      " 25.95062329 28.49744469 19.35133847 20.17145783 25.97572083 18.26842082\n",
      " 16.52840639 17.08939063]\n",
      "Boston数据线性回归模型的平均绝对误差为： 3.3775517360082032\n",
      "Boston数据线性回归模型的均方误差为： 31.15051739031563\n",
      "Boston数据线性回归模型的中值绝对误差为： 1.7788996425420773\n",
      "Boston数据线性回归模型的可解释方差值为： 0.710547565009666\n",
      "Boston数据线性回归模型的R方值为： 0.7068961686076838\n"
     ]
    }
   ],
   "source": [
    "from sklearn.datasets import load_boston\n",
    "from sklearn.model_selection import train_test_split\n",
    "from sklearn.linear_model import LinearRegression\n",
    "\n",
    "# 加载boston数据集\n",
    "boston = load_boston()\n",
    "# 提取数据\n",
    "x = boston['data']\n",
    "y = boston['target']\n",
    "names = boston['feature_names']\n",
    "\n",
    "# 将数据划分为训练集和测试集\n",
    "x_train,x_test,y_train,y_test=train_test_split(x,y,test_size=0.2,random_state=125)\n",
    "\n",
    "# 建立线性回归模型\n",
    "clf = LinearRegression().fit(x_train,y_train)\n",
    "print('建立的Linear Regression模型为：\\n',clf)\n",
    "\n",
    "# 预测测试集结果\n",
    "y_pred = clf.predict(x_test)\n",
    "print('预测前20个结果为：\\n',y_pred[:20])\n",
    "\n",
    "from sklearn.metrics import explained_variance_score,mean_absolute_error,mean_squared_error,\\\n",
    "median_absolute_error,r2_score\n",
    "print('Boston数据线性回归模型的平均绝对误差为：',\n",
    "     mean_absolute_error(y_test,y_pred))\n",
    "print('Boston数据线性回归模型的均方误差为：',\n",
    "     mean_squared_error(y_test,y_pred))\n",
    "print('Boston数据线性回归模型的中值绝对误差为：',\n",
    "     median_absolute_error(y_test,y_pred))\n",
    "print('Boston数据线性回归模型的可解释方差值为：',\n",
    "     explained_variance_score(y_test,y_pred))\n",
    "print('Boston数据线性回归模型的R方值为：',\n",
    "     r2_score(y_test,y_pred))"
   ]
  },
  {
   "cell_type": "code",
   "execution_count": null,
   "metadata": {},
   "outputs": [],
   "source": []
  },
  {
   "cell_type": "code",
   "execution_count": null,
   "metadata": {},
   "outputs": [],
   "source": []
  }
 ],
 "metadata": {
  "kernelspec": {
   "display_name": "Python 3",
   "language": "python",
   "name": "python3"
  },
  "language_info": {
   "codemirror_mode": {
    "name": "ipython",
    "version": 3
   },
   "file_extension": ".py",
   "mimetype": "text/x-python",
   "name": "python",
   "nbconvert_exporter": "python",
   "pygments_lexer": "ipython3",
   "version": "3.7.6"
  }
 },
 "nbformat": 4,
 "nbformat_minor": 4
}
