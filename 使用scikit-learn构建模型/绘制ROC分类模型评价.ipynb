{
 "cells": [
  {
   "cell_type": "code",
   "execution_count": 1,
   "metadata": {},
   "outputs": [
    {
     "name": "stdout",
     "output_type": "stream",
     "text": [
      "建立的SVM模型为：\n",
      " SVC(C=1.0, break_ties=False, cache_size=200, class_weight=None, coef0=0.0,\n",
      "    decision_function_shape='ovr', degree=3, gamma='scale', kernel='rbf',\n",
      "    max_iter=-1, probability=False, random_state=None, shrinking=True,\n",
      "    tol=0.001, verbose=False)\n",
      "预测前20个结果为：\n",
      " [1 0 0 0 1 1 1 1 1 1 1 1 0 1 1 1 0 0 1 1]\n"
     ]
    },
    {
     "data": {
      "image/png": "[encoded data removed]",
      "text/plain": [
       "<Figure size 720x432 with 1 Axes>"
      ]
     },
     "metadata": {
      "needs_background": "light"
     },
     "output_type": "display_data"
    }
   ],
   "source": [
    "import numpy as np\n",
    "from sklearn.datasets import load_breast_cancer\n",
    "from sklearn.svm import SVC\n",
    "from sklearn.model_selection import train_test_split\n",
    "from sklearn.preprocessing import StandardScaler\n",
    "\n",
    "cancer = load_breast_cancer()\n",
    "cancer_data = cancer['data']\n",
    "cancer_target = cancer['target']\n",
    "cancer_names = cancer['feature_names']\n",
    "\n",
    "## 将数据划分为训练集测试集\n",
    "cancer_data_train,cancer_data_test, \\\n",
    "cancer_target_train,cancer_target_test = \\\n",
    "train_test_split(cancer_data,cancer_target,\n",
    "      test_size = 0.2,random_state = 22)\n",
    "\n",
    "## 数据标准化\n",
    "stdScaler = StandardScaler().fit(cancer_data_train)\n",
    "cancer_trainStd = stdScaler.transform(cancer_data_train)\n",
    "cancer_testStd = stdScaler.transform(cancer_data_test)\n",
    "\n",
    "## 建立SVM模型\n",
    "svm = SVC().fit(cancer_trainStd,cancer_target_train)\n",
    "print('建立的SVM模型为：\\n',svm)\n",
    "\n",
    "\n",
    "## 预测训练集结果\n",
    "cancer_target_pred = svm.predict(cancer_testStd)\n",
    "print('预测前20个结果为：\\n',cancer_target_pred[:20])\n",
    "\n",
    "\n",
    "from sklearn.metrics import roc_curve\n",
    "import matplotlib.pyplot as plt\n",
    "\n",
    "## 求出ROC曲线的x轴和y轴\n",
    "fpr, tpr, thresholds = \\\n",
    "roc_curve(cancer_target_test,cancer_target_pred)\n",
    "plt.figure(figsize=(10,6))\n",
    "plt.xlim(0,1) ##设定x轴的范围\n",
    "plt.ylim(0.0,1.1) ## 设定y轴的范围\n",
    "plt.xlabel('False Postive Rate')\n",
    "plt.ylabel('True Postive Rate')\n",
    "plt.plot(fpr,tpr,linewidth=2, linestyle=\"-\",color='red')\n",
    "plt.show()"
   ]
  },
  {
   "cell_type": "code",
   "execution_count": null,
   "metadata": {},
   "outputs": [],
   "source": []
  }
 ],
 "metadata": {
  "kernelspec": {
   "display_name": "Python 3",
   "language": "python",
   "name": "python3"
  },
  "language_info": {
   "codemirror_mode": {
    "name": "ipython",
    "version": 3
   },
   "file_extension": ".py",
   "mimetype": "text/x-python",
   "name": "python",
   "nbconvert_exporter": "python",
   "pygments_lexer": "ipython3",
   "version": "3.7.6"
  }
 },
 "nbformat": 4,
 "nbformat_minor": 4
}
