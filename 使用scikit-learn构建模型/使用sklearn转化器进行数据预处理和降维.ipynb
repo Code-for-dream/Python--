{
 "cells": [
  {
   "cell_type": "code",
   "execution_count": 2,
   "metadata": {},
   "outputs": [
    {
     "name": "stdout",
     "output_type": "stream",
     "text": [
      "离差标准化前训练集数据的最小值： 0.0\n",
      "离差标准化后训练集数据的最小值： 0.0\n",
      "离差标准化前训练集数据的最大值： 4254.0\n",
      "离差标准化后训练集数据的最大值： 1.0000000000000002\n",
      "离差标准化前测试集数据的最小值： 0.0\n",
      "离差标准化后测试集数据的最小值： -0.057127602776294695\n",
      "离差标准化前测试集数据的最大值： 3432.0\n",
      "离差标准化后测试集数据的最大值： 1.3264399566986453\n",
      "PCA降维前训练集数据的形状为： (455, 30)\n",
      "PCA降维后训练集数据的形状为： (455, 10)\n",
      "PCA降维前测试集数据的形状为： (114, 30)\n",
      "PCA降维后测试集数据的形状为： (114, 10)\n"
     ]
    }
   ],
   "source": [
    "from sklearn.datasets import load_breast_cancer\n",
    "\n",
    "# 将数据集赋值给cancer变量\n",
    "cancer = load_breast_cancer() \n",
    "cancer_data = cancer['data']\n",
    "cancer_target = cancer['target'] \n",
    "cancer_target = cancer['feature_names'] \n",
    "cancer_target = cancer['DESCR'] \n",
    "\n",
    "\n",
    "from sklearn.model_selection import train_test_split\n",
    "cancer_data_train,cancer_data_test,\\\n",
    "cancer_target_train,cancer_target_test\\\n",
    "= train_test_split(cancer_data,cancer_target,test_size=0.2,random_state=42)\n",
    "\n",
    "\n",
    "import numpy as np\n",
    "from sklearn.preprocessing import MinMaxScaler\n",
    "# 生成规则\n",
    "Scaler = MinMaxScaler().fit(cancer_data_train)\n",
    "# 将规则应用于训练集\n",
    "cancer_trainScaler = Scaler.transform(cancer_data_train)\n",
    "# 将规则应用于测试集\n",
    "cancer_testScaler = Scaler.transform(cancer_data_test)\n",
    "print('离差标准化前训练集数据的最小值：',cancer_data_train.min())\n",
    "print('离差标准化后训练集数据的最小值：',np.min(cancer_trainScaler))\n",
    "print('离差标准化前训练集数据的最大值：',np.max(cancer_data_train))\n",
    "print('离差标准化后训练集数据的最大值：',np.max(cancer_trainScaler))\n",
    "print('离差标准化前测试集数据的最小值：',np.min(cancer_data_test))\n",
    "print('离差标准化后测试集数据的最小值：',np.min(cancer_testScaler))\n",
    "print('离差标准化前测试集数据的最大值：',np.max(cancer_data_test))\n",
    "print('离差标准化后测试集数据的最大值：',np.max(cancer_testScaler))\n",
    "\n",
    "from sklearn.decomposition import PCA\n",
    "# 生成规则\n",
    "pca_model=PCA(n_components=10).fit(cancer_trainScaler)\n",
    "# 将规则应用到训练集\n",
    "cancer_trainPca = pca_model.transform(cancer_trainScaler)\n",
    "# 将规则应用到测试集\n",
    "cancer_testPca = pca_model.transform(cancer_testScaler)\n",
    "print('PCA降维前训练集数据的形状为：',cancer_trainScaler.shape)\n",
    "print('PCA降维后训练集数据的形状为：',cancer_trainPca.shape)\n",
    "print('PCA降维前测试集数据的形状为：',cancer_testScaler.shape)\n",
    "print('PCA降维后测试集数据的形状为：',cancer_testPca.shape)"
   ]
  },
  {
   "cell_type": "code",
   "execution_count": null,
   "metadata": {},
   "outputs": [],
   "source": []
  },
  {
   "cell_type": "code",
   "execution_count": null,
   "metadata": {},
   "outputs": [],
   "source": []
  }
 ],
 "metadata": {
  "kernelspec": {
   "display_name": "Python 3",
   "language": "python",
   "name": "python3"
  },
  "language_info": {
   "codemirror_mode": {
    "name": "ipython",
    "version": 3
   },
   "file_extension": ".py",
   "mimetype": "text/x-python",
   "name": "python",
   "nbconvert_exporter": "python",
   "pygments_lexer": "ipython3",
   "version": "3.7.6"
  }
 },
 "nbformat": 4,
 "nbformat_minor": 4
}
