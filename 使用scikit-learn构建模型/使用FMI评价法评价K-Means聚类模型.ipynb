{
 "cells": [
  {
   "cell_type": "code",
   "execution_count": 10,
   "metadata": {},
   "outputs": [
    {
     "name": "stdout",
     "output_type": "stream",
     "text": [
      "iris数据聚2类FMI评价分值为：0.750473\n",
      "iris数据聚3类FMI评价分值为：0.820808\n",
      "iris数据聚4类FMI评价分值为：0.756593\n",
      "iris数据聚5类FMI评价分值为：0.725483\n",
      "iris数据聚6类FMI评价分值为：0.614345\n"
     ]
    }
   ],
   "source": [
    "from sklearn.datasets import load_iris\n",
    "\n",
    "iris = load_iris()           # 加载iris数据集\n",
    "iris_data = iris['data']     # 提取数据集特征\n",
    "iris_target = iris['target'] # 提取数据集标签 \n",
    "\n",
    "from sklearn.metrics import fowlkes_mallows_score\n",
    "from sklearn.cluster import KMeans\n",
    "\n",
    "for i in range(2,7):\n",
    "    # 构建并训练模型\n",
    "    kmeans = KMeans(n_clusters=i,random_state=123).fit(iris_data)\n",
    "    score = fowlkes_mallows_score(iris_target,kmeans.labels_)\n",
    "    print('iris数据聚%d类FMI评价分值为：%f'%(i,score))"
   ]
  },
  {
   "cell_type": "code",
   "execution_count": null,
   "metadata": {},
   "outputs": [],
   "source": []
  },
  {
   "cell_type": "code",
   "execution_count": null,
   "metadata": {},
   "outputs": [],
   "source": []
  },
  {
   "cell_type": "code",
   "execution_count": null,
   "metadata": {},
   "outputs": [],
   "source": []
  },
  {
   "cell_type": "code",
   "execution_count": null,
   "metadata": {},
   "outputs": [],
   "source": []
  },
  {
   "cell_type": "code",
   "execution_count": null,
   "metadata": {},
   "outputs": [],
   "source": []
  },
  {
   "cell_type": "code",
   "execution_count": null,
   "metadata": {},
   "outputs": [],
   "source": []
  },
  {
   "cell_type": "code",
   "execution_count": null,
   "metadata": {},
   "outputs": [],
   "source": []
  }
 ],
 "metadata": {
  "kernelspec": {
   "display_name": "Python 3",
   "language": "python",
   "name": "python3"
  },
  "language_info": {
   "codemirror_mode": {
    "name": "ipython",
    "version": 3
   },
   "file_extension": ".py",
   "mimetype": "text/x-python",
   "name": "python",
   "nbconvert_exporter": "python",
   "pygments_lexer": "ipython3",
   "version": "3.7.6"
  }
 },
 "nbformat": 4,
 "nbformat_minor": 4
}
