{
 "cells": [
  {
   "cell_type": "code",
   "execution_count": 2,
   "metadata": {},
   "outputs": [
    {
     "name": "stdout",
     "output_type": "stream",
     "text": [
      "['序号' '时间' '国内生产总值_当季值(亿元)' '第一产业增加值_当季值(亿元)' '第二产业增加值_当季值(亿元)'\n",
      " '第三产业增加值_当季值(亿元)' '农林牧渔业增加值_当季值(亿元)' '工业增加值_当季值(亿元)' '建筑业增加值_当季值(亿元)'\n",
      " '批发和零售业增加值_当季值(亿元)' '交通运输、仓储和邮政业增加值_当季值(亿元)' '住宿和餐饮业增加值_当季值(亿元)'\n",
      " '金融业增加值_当季值(亿元)' '房地产业增加值_当季值(亿元)' '其他行业增加值_当季值(亿元)']\n",
      "[[1 '2000年第一季度' 21329.9 ... 1235.9 933.7 3586.1]\n",
      " [2 '2000年第二季度' 24043.4 ... 1124.0 904.7 3464.9]\n",
      " [3 '2000年第三季度' 25712.5 ... 1170.4 1070.9 3518.2]\n",
      " ...\n",
      " [67 '2016年第三季度' 190529.5 ... 15472.5 12164.1 37964.1]\n",
      " [68 '2016年第四季度' 211281.3 ... 15548.7 13214.9 39848.4]\n",
      " [69 '2017年第一季度' 180682.7 ... 17213.5 12393.4 42443.1]]\n"
     ]
    }
   ],
   "source": [
    "import numpy as np\n",
    "import matplotlib.pyplot as plt\n",
    "\n",
    "# 设置中文及字符显示\n",
    "plt.rcParams['font.sans-serif'] = 'SimHei'\n",
    "plt.rcParams['axes.unicode_minus'] = False\n",
    "\n",
    "# 读取数据\n",
    "data = np.load('data/国民经济核算季度数据.npz',allow_pickle=True)\n",
    "name = data['columns']\n",
    "values = data['values']\n",
    "print(name)\n",
    "print(values)"
   ]
  },
  {
   "cell_type": "code",
   "execution_count": 3,
   "metadata": {},
   "outputs": [
    {
     "data": {
      "image/png": "[encoded data removed]",
      "text/plain": [
       "<Figure size 432x360 with 1 Axes>"
      ]
     },
     "metadata": {
      "needs_background": "light"
     },
     "output_type": "display_data"
    }
   ],
   "source": [
    "#设置画布\n",
    "plt.figure(figsize=(6,5))\n",
    "\n",
    "# 绘制图像\n",
    "label = ['第一产业','第二产业','第三产业']\n",
    "plt.bar(range(3),values[-1,3:6],width=0.5)\n",
    "plt.xlabel(\"产业\")\n",
    "plt.ylabel(\"生产总值（亿元）\")\n",
    "plt.xticks(range(3),label)\n",
    "plt.title('2017年第一季度各产业国民生产总值直方图')\n",
    "plt.savefig('tmpsave/2017年第一季度各产业国民生产总值直方图.png')\n",
    "plt.show()"
   ]
  },
  {
   "cell_type": "code",
   "execution_count": null,
   "metadata": {},
   "outputs": [],
   "source": []
  },
  {
   "cell_type": "code",
   "execution_count": null,
   "metadata": {},
   "outputs": [],
   "source": []
  }
 ],
 "metadata": {
  "kernelspec": {
   "display_name": "Python 3",
   "language": "python",
   "name": "python3"
  },
  "language_info": {
   "codemirror_mode": {
    "name": "ipython",
    "version": 3
   },
   "file_extension": ".py",
   "mimetype": "text/x-python",
   "name": "python",
   "nbconvert_exporter": "python",
   "pygments_lexer": "ipython3",
   "version": "3.7.6"
  }
 },
 "nbformat": 4,
 "nbformat_minor": 4
}
